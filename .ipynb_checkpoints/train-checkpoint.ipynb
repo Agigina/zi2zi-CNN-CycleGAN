{
 "cells": [
  {
   "cell_type": "markdown",
   "metadata": {},
   "source": [
    "# Test GPU+CUDA"
   ]
  },
  {
   "cell_type": "code",
   "execution_count": 1,
   "metadata": {
    "ExecuteTime": {
     "end_time": "2020-06-09T21:05:39.042645Z",
     "start_time": "2020-06-09T21:05:34.525646Z"
    },
    "jupyter": {
     "outputs_hidden": true
    }
   },
   "outputs": [
    {
     "data": {
      "text/plain": [
       "'1.8.0'"
      ]
     },
     "execution_count": 1,
     "metadata": {},
     "output_type": "execute_result"
    }
   ],
   "source": [
    "import tensorflow as tf\n",
    "tf.__version__"
   ]
  },
  {
   "cell_type": "code",
   "execution_count": 2,
   "metadata": {
    "ExecuteTime": {
     "end_time": "2020-06-09T21:05:40.961644Z",
     "start_time": "2020-06-09T21:05:39.045644Z"
    }
   },
   "outputs": [
    {
     "name": "stdout",
     "output_type": "stream",
     "text": [
      "[[22. 28.]\n",
      " [49. 64.]]\n"
     ]
    }
   ],
   "source": [
    "a = tf.constant([1.0, 2.0, 3.0 ,4.0, 5.0, 6.0], shape=[2, 3], name='a')\n",
    "b = tf.constant([1.0, 2.0, 3.0 ,4.0, 5.0, 6.0], shape=[3, 2], name='b')\n",
    "c = tf.matmul(a, b)\n",
    "\n",
    "sess = tf.Session(config=tf.ConfigProto(log_device_placement=True))\n",
    "\n",
    "print(sess.run(c))"
   ]
  },
  {
   "cell_type": "code",
   "execution_count": 3,
   "metadata": {
    "ExecuteTime": {
     "end_time": "2020-06-09T21:05:41.032645Z",
     "start_time": "2020-06-09T21:05:40.965645Z"
    }
   },
   "outputs": [
    {
     "name": "stdout",
     "output_type": "stream",
     "text": [
      "[name: \"/device:CPU:0\"\n",
      "device_type: \"CPU\"\n",
      "memory_limit: 268435456\n",
      "locality {\n",
      "}\n",
      "incarnation: 7044326642979509586\n",
      ", name: \"/device:GPU:0\"\n",
      "device_type: \"GPU\"\n",
      "memory_limit: 7644122317\n",
      "locality {\n",
      "  bus_id: 1\n",
      "  links {\n",
      "  }\n",
      "}\n",
      "incarnation: 12829986676578972177\n",
      "physical_device_desc: \"device: 0, name: Tesla P4, pci bus id: 0000:13:00.0, compute capability: 6.1\"\n",
      "]\n"
     ]
    }
   ],
   "source": [
    "from tensorflow.python.client import device_lib\n",
    "print(device_lib.list_local_devices())\n"
   ]
  },
  {
   "cell_type": "markdown",
   "metadata": {},
   "source": [
    "# Preprocess\n",
    "\n",
    "+ 手写字体：\n",
    "    1. 上传自己的手写图片灰阶照片 \n",
    "    <p align=\"center\">\n",
    "      <img src=\"handwriting_preparation\\images\\yun.jpg\" alt=\"handwritten-pic\",  width=\"600\"/>\n",
    "    </p>\n",
    "    \n",
    "    2. 使用Tesseract+jTessBoxEditor获取每个charactor的内容与坐标box坐标信息\n",
    "    \n",
    "    <p align=\"center\">\n",
    "      <img src=\"README.asserts/char_box.png\" alt=\"char-box\",  width=\"400\"/>\n",
    "    </p>\n",
    "    \n",
    "    每个字对应的box信息：\n",
    "    <p align=\"center\">\n",
    "      <img src=\"README.asserts/box.png\" alt=\"box-info\",  width=\"400\"/>\n",
    "    </p>\n",
    "+ 书法字体（target）：\n",
    "    \n",
    "    1. 由于名家书法作品图片不够齐全，所以使用ttf格式的计算机编码字体生成图像\n",
    "    2. 对比之后，选用“迷你简黄草”字体\n",
    "    <p align=\"center\">\n",
    "      <img src=\"README.asserts/font_viewer.png\" alt=\"char-box\",  width=\"400\"/>\n",
    "    </p>"
   ]
  },
  {
   "cell_type": "code",
   "execution_count": 4,
   "metadata": {
    "ExecuteTime": {
     "end_time": "2020-06-09T21:05:44.315640Z",
     "start_time": "2020-06-09T21:05:41.035642Z"
    }
   },
   "outputs": [],
   "source": [
    "# !python font2img_finetune.py"
   ]
  },
  {
   "cell_type": "markdown",
   "metadata": {},
   "source": [
    "# Train"
   ]
  },
  {
   "cell_type": "code",
   "execution_count": 5,
   "metadata": {
    "ExecuteTime": {
     "end_time": "2020-06-09T21:05:44.430650Z",
     "start_time": "2020-06-09T21:05:44.328668Z"
    },
    "scrolled": true
   },
   "outputs": [],
   "source": [
    "# -*- coding: utf-8 -*-\n",
    "from __future__ import absolute_import\n",
    "from __future__ import print_function\n",
    "from model.preprocessing_helper import CANVAS_SIZE, EMBEDDING_DIM\n",
    "from model.unet import UNet\n",
    "\n",
    "\n",
    "config = tf.ConfigProto()\n",
    "config.gpu_options.allow_growth = True"
   ]
  },
  {
   "cell_type": "code",
   "execution_count": 6,
   "metadata": {
    "ExecuteTime": {
     "end_time": "2020-06-09T21:05:44.444646Z",
     "start_time": "2020-06-09T21:05:44.433647Z"
    },
    "scrolled": true
   },
   "outputs": [],
   "source": [
    "################ train-params ###############\n",
    "\n",
    "experiment_dir='experiments_finetune'    # experiment directory, data, samples,checkpoints,etc\n",
    "experiment_id=0         # sequence id for the experiments you prepare to run\n",
    "image_size=CANVAS_SIZE  # size of your input and output image\n",
    "L1_penalty=100      # weight for L1 loss\n",
    "Lconst_penalty=15   # weight for const loss\n",
    "Ltv_penalty=0.0     # weight for tv loss\n",
    "Lcategory_penalty=1.0  # weight for tv loss\n",
    "embedding_num=40   # number for distinct embeddings\n",
    "embedding_dim=EMBEDDING_DIM   # dimension for embedding\n",
    "epoch=10         # number of epoch\n",
    "batch_size=16    # number of examples in batch\n",
    "lr=0.001         # initial learning rate for adam\n",
    "schedule=20         # number of epochs to half learning rate\n",
    "resume=1            # number of epochs to half learning rate\n",
    "resume_pre_model=0  # resume from pre-training\n",
    "freeze_encoder_decoder=1      # freeze encoder/decoder weights during training\n",
    "optimizer='adam'   # optimizer of the model\n",
    "fine_tune='67'     # specific labels id to be fine tuned\n",
    "inst_norm=1      # use conditional instance normalization in your model\n",
    "sample_steps=20  # number of batches in between two samples are drawn from validation set\n",
    "checkpoint_steps=50  # number of batches in between two checkpoints\n",
    "validate_steps=1     # number of batches in between two validations\n",
    "validate_batches=20  # validation epochs\n",
    "flip_labels=1    # whether flip training data labels or not, in fine tuning"
   ]
  },
  {
   "cell_type": "code",
   "execution_count": 7,
   "metadata": {
    "ExecuteTime": {
     "end_time": "2020-06-09T21:06:39.412390Z",
     "start_time": "2020-06-09T21:05:44.448643Z"
    },
    "hide_input": false
   },
   "outputs": [
    {
     "name": "stdout",
     "output_type": "stream",
     "text": [
      "freeze encoder/decoder weights\n",
      "unpickled total 86 examples\n",
      "unpickled total 10 examples\n",
      "filter by label -> {67}\n",
      "train examples -> 0, val examples -> 0\n",
      "==========\n",
      "\n",
      "None\n",
      "\n",
      "==============\n",
      "fail to restore model experiments_finetune\\checkpoint\\experiment_1\n",
      "Checkpoint: last checkpoint step 0\n"
     ]
    }
   ],
   "source": [
    "\n",
    "\n",
    "with tf.Session(config=config) as sess:\n",
    "    model = UNet(experiment_dir=experiment_dir, batch_size=batch_size, experiment_id=experiment_id,\n",
    "                 input_width=image_size, output_width=image_size, embedding_num=embedding_num,\n",
    "                 validate_batches=validate_batches, embedding_dim=embedding_dim,\n",
    "                 L1_penalty=L1_penalty, Lconst_penalty=Lconst_penalty,\n",
    "                 Ltv_penalty=Ltv_penalty, Lcategory_penalty=Lcategory_penalty)\n",
    "    model.register_session(sess)\n",
    "    if flip_labels:\n",
    "        model.build_model(is_training=True, inst_norm=inst_norm, no_target_source=True)\n",
    "    else:\n",
    "        model.build_model(is_training=True, inst_norm=inst_norm)\n",
    "    fine_tune_list = None\n",
    "    if fine_tune:\n",
    "        ids = fine_tune.split(\",\")\n",
    "        fine_tune_list = set([int(i) for i in ids])\n",
    "#         print(\"@@@@@\"+str(fine_tune_list))\n",
    "\n",
    "    model.train(lr=lr, epoch=epoch, resume=resume, resume_pre_model=resume_pre_model,\n",
    "                schedule=schedule, freeze_encoder_decoder=freeze_encoder_decoder,\n",
    "                fine_tune=fine_tune_list,\n",
    "                sample_steps=sample_steps, checkpoint_steps=checkpoint_steps,\n",
    "                validate_steps=validate_steps,\n",
    "                flip_labels=flip_labels, optimizer=optimizer)\n"
   ]
  },
  {
   "cell_type": "markdown",
   "metadata": {},
   "source": [
    "# Infer"
   ]
  },
  {
   "cell_type": "code",
   "execution_count": 8,
   "metadata": {
    "ExecuteTime": {
     "end_time": "2020-06-09T19:04:05.383593Z",
     "start_time": "2020-06-09T19:04:05.378593Z"
    }
   },
   "outputs": [],
   "source": [
    "# -*- coding: utf-8 -*-\n",
    "import os\n",
    "from model.utils import compile_frames_to_gif"
   ]
  },
  {
   "cell_type": "code",
   "execution_count": 9,
   "metadata": {
    "ExecuteTime": {
     "end_time": "2020-06-09T19:04:06.007597Z",
     "start_time": "2020-06-09T19:04:05.999603Z"
    },
    "scrolled": true
   },
   "outputs": [],
   "source": [
    "################ infer-params ###############\n",
    "\n",
    "model_dir='experiments_finetune/checkpoint/experiment_0'  # directory that saves the model checkpoints\n",
    "batch_size=32       # directory that saves the model checkpoints\n",
    "source_obj='experiments_finetune/data/val.obj'   # the source images for inference\n",
    "embedding_ids='67'     # embeddings involved\n",
    "save_dir='save_dir/'  # path to save inferred images\n",
    "inst_norm=0         # use conditional instance normalization in your model\n",
    "interpolate=0       # interpolate between different embedding vectors\n",
    "steps=10            # interpolation steps in between vectors\n",
    "output_gif='0'        # output name transition gif\n",
    "uroboros=0          # Shōnen yo, you have stepped into uncharted territory"
   ]
  },
  {
   "cell_type": "code",
   "execution_count": 10,
   "metadata": {
    "ExecuteTime": {
     "end_time": "2020-06-09T19:04:20.949892Z",
     "start_time": "2020-06-09T19:04:07.098600Z"
    },
    "scrolled": false
   },
   "outputs": [
    {
     "ename": "ValueError",
     "evalue": "Variable embedding/E already exists, disallowed. Did you mean to set reuse=True or reuse=tf.AUTO_REUSE in VarScope? Originally defined at:\n\n  File \"C:\\Program Files\\Anaconda3\\envs\\gpu\\lib\\site-packages\\tensorflow\\python\\framework\\ops.py\", line 1718, in __init__\n    self._traceback = self._graph._extract_stack()  # pylint: disable=protected-access\n  File \"C:\\Program Files\\Anaconda3\\envs\\gpu\\lib\\site-packages\\tensorflow\\python\\framework\\ops.py\", line 3392, in create_op\n    op_def=op_def)\n  File \"C:\\Program Files\\Anaconda3\\envs\\gpu\\lib\\site-packages\\tensorflow\\python\\framework\\op_def_library.py\", line 787, in _apply_op_helper\n    op_def=op_def)\n",
     "output_type": "error",
     "traceback": [
      "\u001b[1;31m---------------------------------------------------------------------------\u001b[0m",
      "\u001b[1;31mValueError\u001b[0m                                Traceback (most recent call last)",
      "\u001b[1;32m<ipython-input-10-0646c0406977>\u001b[0m in \u001b[0;36m<module>\u001b[1;34m\u001b[0m\n\u001b[0;32m      2\u001b[0m     \u001b[0mmodel\u001b[0m \u001b[1;33m=\u001b[0m \u001b[0mUNet\u001b[0m\u001b[1;33m(\u001b[0m\u001b[0mbatch_size\u001b[0m\u001b[1;33m=\u001b[0m\u001b[0mbatch_size\u001b[0m\u001b[1;33m)\u001b[0m\u001b[1;33m\u001b[0m\u001b[1;33m\u001b[0m\u001b[0m\n\u001b[0;32m      3\u001b[0m     \u001b[0mmodel\u001b[0m\u001b[1;33m.\u001b[0m\u001b[0mregister_session\u001b[0m\u001b[1;33m(\u001b[0m\u001b[0msess\u001b[0m\u001b[1;33m)\u001b[0m\u001b[1;33m\u001b[0m\u001b[1;33m\u001b[0m\u001b[0m\n\u001b[1;32m----> 4\u001b[1;33m     \u001b[0mmodel\u001b[0m\u001b[1;33m.\u001b[0m\u001b[0mbuild_model\u001b[0m\u001b[1;33m(\u001b[0m\u001b[0mis_training\u001b[0m\u001b[1;33m=\u001b[0m\u001b[1;32mFalse\u001b[0m\u001b[1;33m,\u001b[0m \u001b[0minst_norm\u001b[0m\u001b[1;33m=\u001b[0m\u001b[0minst_norm\u001b[0m\u001b[1;33m)\u001b[0m\u001b[1;33m\u001b[0m\u001b[1;33m\u001b[0m\u001b[0m\n\u001b[0m\u001b[0;32m      5\u001b[0m     \u001b[0membedding_ids\u001b[0m \u001b[1;33m=\u001b[0m \u001b[1;33m[\u001b[0m\u001b[0mint\u001b[0m\u001b[1;33m(\u001b[0m\u001b[0mi\u001b[0m\u001b[1;33m)\u001b[0m \u001b[1;32mfor\u001b[0m \u001b[0mi\u001b[0m \u001b[1;32min\u001b[0m \u001b[0membedding_ids\u001b[0m\u001b[1;33m.\u001b[0m\u001b[0msplit\u001b[0m\u001b[1;33m(\u001b[0m\u001b[1;34m\",\"\u001b[0m\u001b[1;33m)\u001b[0m\u001b[1;33m]\u001b[0m\u001b[1;33m\u001b[0m\u001b[1;33m\u001b[0m\u001b[0m\n\u001b[0;32m      6\u001b[0m     \u001b[1;32mif\u001b[0m \u001b[1;32mnot\u001b[0m \u001b[0minterpolate\u001b[0m\u001b[1;33m:\u001b[0m\u001b[1;33m\u001b[0m\u001b[1;33m\u001b[0m\u001b[0m\n",
      "\u001b[1;32m~\\Desktop\\mjy\\zi2zi-CNN-CycleGAN\\model\\unet.py\u001b[0m in \u001b[0;36mbuild_model\u001b[1;34m(self, is_training, inst_norm, no_target_source)\u001b[0m\n\u001b[0;32m    180\u001b[0m         \u001b[0mreal_A\u001b[0m \u001b[1;33m=\u001b[0m \u001b[0mreal_data\u001b[0m\u001b[1;33m[\u001b[0m\u001b[1;33m:\u001b[0m\u001b[1;33m,\u001b[0m \u001b[1;33m:\u001b[0m\u001b[1;33m,\u001b[0m \u001b[1;33m:\u001b[0m\u001b[1;33m,\u001b[0m \u001b[0mself\u001b[0m\u001b[1;33m.\u001b[0m\u001b[0minput_filters\u001b[0m\u001b[1;33m:\u001b[0m\u001b[0mself\u001b[0m\u001b[1;33m.\u001b[0m\u001b[0minput_filters\u001b[0m \u001b[1;33m+\u001b[0m \u001b[0mself\u001b[0m\u001b[1;33m.\u001b[0m\u001b[0moutput_filters\u001b[0m\u001b[1;33m]\u001b[0m\u001b[1;33m\u001b[0m\u001b[1;33m\u001b[0m\u001b[0m\n\u001b[0;32m    181\u001b[0m \u001b[1;33m\u001b[0m\u001b[0m\n\u001b[1;32m--> 182\u001b[1;33m         \u001b[0membedding\u001b[0m \u001b[1;33m=\u001b[0m \u001b[0minit_embedding\u001b[0m\u001b[1;33m(\u001b[0m\u001b[0mself\u001b[0m\u001b[1;33m.\u001b[0m\u001b[0membedding_num\u001b[0m\u001b[1;33m,\u001b[0m \u001b[0mself\u001b[0m\u001b[1;33m.\u001b[0m\u001b[0membedding_dim\u001b[0m\u001b[1;33m)\u001b[0m\u001b[1;33m\u001b[0m\u001b[1;33m\u001b[0m\u001b[0m\n\u001b[0m\u001b[0;32m    183\u001b[0m         fake_B, encoded_real_A = self.generator(real_A, embedding, embedding_ids, is_training=is_training,\n\u001b[0;32m    184\u001b[0m                                                 inst_norm=inst_norm)\n",
      "\u001b[1;32m~\\Desktop\\mjy\\zi2zi-CNN-CycleGAN\\model\\ops.py\u001b[0m in \u001b[0;36minit_embedding\u001b[1;34m(size, dimension, stddev, scope)\u001b[0m\n\u001b[0;32m     58\u001b[0m     \u001b[1;32mwith\u001b[0m \u001b[0mtf\u001b[0m\u001b[1;33m.\u001b[0m\u001b[0mvariable_scope\u001b[0m\u001b[1;33m(\u001b[0m\u001b[0mscope\u001b[0m\u001b[1;33m)\u001b[0m\u001b[1;33m:\u001b[0m\u001b[1;33m\u001b[0m\u001b[1;33m\u001b[0m\u001b[0m\n\u001b[0;32m     59\u001b[0m         return tf.get_variable(\"E\", [size, 1, 1, dimension], tf.float32,\n\u001b[1;32m---> 60\u001b[1;33m                                tf.random_normal_initializer(stddev=stddev))\n\u001b[0m\u001b[0;32m     61\u001b[0m \u001b[1;33m\u001b[0m\u001b[0m\n\u001b[0;32m     62\u001b[0m \u001b[1;33m\u001b[0m\u001b[0m\n",
      "\u001b[1;32mC:\\Program Files\\Anaconda3\\envs\\gpu\\lib\\site-packages\\tensorflow\\python\\ops\\variable_scope.py\u001b[0m in \u001b[0;36mget_variable\u001b[1;34m(name, shape, dtype, initializer, regularizer, trainable, collections, caching_device, partitioner, validate_shape, use_resource, custom_getter, constraint)\u001b[0m\n\u001b[0;32m   1315\u001b[0m       \u001b[0mpartitioner\u001b[0m\u001b[1;33m=\u001b[0m\u001b[0mpartitioner\u001b[0m\u001b[1;33m,\u001b[0m \u001b[0mvalidate_shape\u001b[0m\u001b[1;33m=\u001b[0m\u001b[0mvalidate_shape\u001b[0m\u001b[1;33m,\u001b[0m\u001b[1;33m\u001b[0m\u001b[1;33m\u001b[0m\u001b[0m\n\u001b[0;32m   1316\u001b[0m       \u001b[0muse_resource\u001b[0m\u001b[1;33m=\u001b[0m\u001b[0muse_resource\u001b[0m\u001b[1;33m,\u001b[0m \u001b[0mcustom_getter\u001b[0m\u001b[1;33m=\u001b[0m\u001b[0mcustom_getter\u001b[0m\u001b[1;33m,\u001b[0m\u001b[1;33m\u001b[0m\u001b[1;33m\u001b[0m\u001b[0m\n\u001b[1;32m-> 1317\u001b[1;33m       constraint=constraint)\n\u001b[0m\u001b[0;32m   1318\u001b[0m get_variable_or_local_docstring = (\n\u001b[0;32m   1319\u001b[0m     \"\"\"%s\n",
      "\u001b[1;32mC:\\Program Files\\Anaconda3\\envs\\gpu\\lib\\site-packages\\tensorflow\\python\\ops\\variable_scope.py\u001b[0m in \u001b[0;36mget_variable\u001b[1;34m(self, var_store, name, shape, dtype, initializer, regularizer, reuse, trainable, collections, caching_device, partitioner, validate_shape, use_resource, custom_getter, constraint)\u001b[0m\n\u001b[0;32m   1077\u001b[0m           \u001b[0mpartitioner\u001b[0m\u001b[1;33m=\u001b[0m\u001b[0mpartitioner\u001b[0m\u001b[1;33m,\u001b[0m \u001b[0mvalidate_shape\u001b[0m\u001b[1;33m=\u001b[0m\u001b[0mvalidate_shape\u001b[0m\u001b[1;33m,\u001b[0m\u001b[1;33m\u001b[0m\u001b[1;33m\u001b[0m\u001b[0m\n\u001b[0;32m   1078\u001b[0m           \u001b[0muse_resource\u001b[0m\u001b[1;33m=\u001b[0m\u001b[0muse_resource\u001b[0m\u001b[1;33m,\u001b[0m \u001b[0mcustom_getter\u001b[0m\u001b[1;33m=\u001b[0m\u001b[0mcustom_getter\u001b[0m\u001b[1;33m,\u001b[0m\u001b[1;33m\u001b[0m\u001b[1;33m\u001b[0m\u001b[0m\n\u001b[1;32m-> 1079\u001b[1;33m           constraint=constraint)\n\u001b[0m\u001b[0;32m   1080\u001b[0m \u001b[1;33m\u001b[0m\u001b[0m\n\u001b[0;32m   1081\u001b[0m   def _get_partitioned_variable(self,\n",
      "\u001b[1;32mC:\\Program Files\\Anaconda3\\envs\\gpu\\lib\\site-packages\\tensorflow\\python\\ops\\variable_scope.py\u001b[0m in \u001b[0;36mget_variable\u001b[1;34m(self, name, shape, dtype, initializer, regularizer, reuse, trainable, collections, caching_device, partitioner, validate_shape, use_resource, custom_getter, constraint)\u001b[0m\n\u001b[0;32m    423\u001b[0m           \u001b[0mcaching_device\u001b[0m\u001b[1;33m=\u001b[0m\u001b[0mcaching_device\u001b[0m\u001b[1;33m,\u001b[0m \u001b[0mpartitioner\u001b[0m\u001b[1;33m=\u001b[0m\u001b[0mpartitioner\u001b[0m\u001b[1;33m,\u001b[0m\u001b[1;33m\u001b[0m\u001b[1;33m\u001b[0m\u001b[0m\n\u001b[0;32m    424\u001b[0m           \u001b[0mvalidate_shape\u001b[0m\u001b[1;33m=\u001b[0m\u001b[0mvalidate_shape\u001b[0m\u001b[1;33m,\u001b[0m \u001b[0muse_resource\u001b[0m\u001b[1;33m=\u001b[0m\u001b[0muse_resource\u001b[0m\u001b[1;33m,\u001b[0m\u001b[1;33m\u001b[0m\u001b[1;33m\u001b[0m\u001b[0m\n\u001b[1;32m--> 425\u001b[1;33m           constraint=constraint)\n\u001b[0m\u001b[0;32m    426\u001b[0m \u001b[1;33m\u001b[0m\u001b[0m\n\u001b[0;32m    427\u001b[0m   def _get_partitioned_variable(\n",
      "\u001b[1;32mC:\\Program Files\\Anaconda3\\envs\\gpu\\lib\\site-packages\\tensorflow\\python\\ops\\variable_scope.py\u001b[0m in \u001b[0;36m_true_getter\u001b[1;34m(name, shape, dtype, initializer, regularizer, reuse, trainable, collections, caching_device, partitioner, validate_shape, use_resource, constraint)\u001b[0m\n\u001b[0;32m    392\u001b[0m           \u001b[0mtrainable\u001b[0m\u001b[1;33m=\u001b[0m\u001b[0mtrainable\u001b[0m\u001b[1;33m,\u001b[0m \u001b[0mcollections\u001b[0m\u001b[1;33m=\u001b[0m\u001b[0mcollections\u001b[0m\u001b[1;33m,\u001b[0m\u001b[1;33m\u001b[0m\u001b[1;33m\u001b[0m\u001b[0m\n\u001b[0;32m    393\u001b[0m           \u001b[0mcaching_device\u001b[0m\u001b[1;33m=\u001b[0m\u001b[0mcaching_device\u001b[0m\u001b[1;33m,\u001b[0m \u001b[0mvalidate_shape\u001b[0m\u001b[1;33m=\u001b[0m\u001b[0mvalidate_shape\u001b[0m\u001b[1;33m,\u001b[0m\u001b[1;33m\u001b[0m\u001b[1;33m\u001b[0m\u001b[0m\n\u001b[1;32m--> 394\u001b[1;33m           use_resource=use_resource, constraint=constraint)\n\u001b[0m\u001b[0;32m    395\u001b[0m \u001b[1;33m\u001b[0m\u001b[0m\n\u001b[0;32m    396\u001b[0m     \u001b[1;32mif\u001b[0m \u001b[0mcustom_getter\u001b[0m \u001b[1;32mis\u001b[0m \u001b[1;32mnot\u001b[0m \u001b[1;32mNone\u001b[0m\u001b[1;33m:\u001b[0m\u001b[1;33m\u001b[0m\u001b[1;33m\u001b[0m\u001b[0m\n",
      "\u001b[1;32mC:\\Program Files\\Anaconda3\\envs\\gpu\\lib\\site-packages\\tensorflow\\python\\ops\\variable_scope.py\u001b[0m in \u001b[0;36m_get_single_variable\u001b[1;34m(self, name, shape, dtype, initializer, regularizer, partition_info, reuse, trainable, collections, caching_device, validate_shape, use_resource, constraint)\u001b[0m\n\u001b[0;32m    731\u001b[0m                          \u001b[1;34m\"reuse=tf.AUTO_REUSE in VarScope? \"\u001b[0m\u001b[1;33m\u001b[0m\u001b[1;33m\u001b[0m\u001b[0m\n\u001b[0;32m    732\u001b[0m                          \"Originally defined at:\\n\\n%s\" % (\n\u001b[1;32m--> 733\u001b[1;33m                              name, \"\".join(traceback.format_list(tb))))\n\u001b[0m\u001b[0;32m    734\u001b[0m       \u001b[0mfound_var\u001b[0m \u001b[1;33m=\u001b[0m \u001b[0mself\u001b[0m\u001b[1;33m.\u001b[0m\u001b[0m_vars\u001b[0m\u001b[1;33m[\u001b[0m\u001b[0mname\u001b[0m\u001b[1;33m]\u001b[0m\u001b[1;33m\u001b[0m\u001b[1;33m\u001b[0m\u001b[0m\n\u001b[0;32m    735\u001b[0m       \u001b[1;32mif\u001b[0m \u001b[1;32mnot\u001b[0m \u001b[0mshape\u001b[0m\u001b[1;33m.\u001b[0m\u001b[0mis_compatible_with\u001b[0m\u001b[1;33m(\u001b[0m\u001b[0mfound_var\u001b[0m\u001b[1;33m.\u001b[0m\u001b[0mget_shape\u001b[0m\u001b[1;33m(\u001b[0m\u001b[1;33m)\u001b[0m\u001b[1;33m)\u001b[0m\u001b[1;33m:\u001b[0m\u001b[1;33m\u001b[0m\u001b[1;33m\u001b[0m\u001b[0m\n",
      "\u001b[1;31mValueError\u001b[0m: Variable embedding/E already exists, disallowed. Did you mean to set reuse=True or reuse=tf.AUTO_REUSE in VarScope? Originally defined at:\n\n  File \"C:\\Program Files\\Anaconda3\\envs\\gpu\\lib\\site-packages\\tensorflow\\python\\framework\\ops.py\", line 1718, in __init__\n    self._traceback = self._graph._extract_stack()  # pylint: disable=protected-access\n  File \"C:\\Program Files\\Anaconda3\\envs\\gpu\\lib\\site-packages\\tensorflow\\python\\framework\\ops.py\", line 3392, in create_op\n    op_def=op_def)\n  File \"C:\\Program Files\\Anaconda3\\envs\\gpu\\lib\\site-packages\\tensorflow\\python\\framework\\op_def_library.py\", line 787, in _apply_op_helper\n    op_def=op_def)\n"
     ]
    }
   ],
   "source": [
    "\n",
    "\n",
    "with tf.Session(config=config) as sess:\n",
    "    model = UNet(batch_size=batch_size)\n",
    "    model.register_session(sess)\n",
    "    model.build_model(is_training=False, inst_norm=inst_norm)\n",
    "    embedding_ids = [int(i) for i in embedding_ids.split(\",\")]\n",
    "    if not interpolate:\n",
    "        if len(embedding_ids) == 1:\n",
    "            embedding_ids = embedding_ids[0]\n",
    "        model.infer(model_dir=model_dir, source_obj=source_obj, embedding_ids=embedding_ids,\n",
    "                    save_dir=save_dir)\n",
    "    else:\n",
    "        if len(embedding_ids) < 2:\n",
    "            raise Exception(\"no need to interpolate yourself unless you are a narcissist\")\n",
    "        chains = embedding_ids[:]\n",
    "        if uroboros:\n",
    "            chains.append(chains[0])\n",
    "        pairs = list()\n",
    "        for i in range(len(chains) - 1):\n",
    "            pairs.append((chains[i], chains[i + 1]))\n",
    "        for s, e in pairs:\n",
    "            model.interpolate(model_dir=model_dir, source_obj=source_obj, between=[s, e],\n",
    "                              save_dir=save_dir, steps=steps)\n",
    "        if output_gif:\n",
    "            gif_path = os.path.join(save_dir, output_gif)\n",
    "            compile_frames_to_gif(save_dir, gif_path)\n",
    "            print(\"gif saved at %s\" % gif_path)\n",
    "\n",
    "\n"
   ]
  },
  {
   "cell_type": "code",
   "execution_count": null,
   "metadata": {},
   "outputs": [],
   "source": []
  }
 ],
 "metadata": {
  "kernelspec": {
   "display_name": "gpu",
   "language": "python",
   "name": "gpu"
  },
  "language_info": {
   "codemirror_mode": {
    "name": "ipython",
    "version": 3
   },
   "file_extension": ".py",
   "mimetype": "text/x-python",
   "name": "python",
   "nbconvert_exporter": "python",
   "pygments_lexer": "ipython3",
   "version": "3.6.10"
  },
  "latex_envs": {
   "LaTeX_envs_menu_present": true,
   "autoclose": false,
   "autocomplete": true,
   "bibliofile": "biblio.bib",
   "cite_by": "apalike",
   "current_citInitial": 1,
   "eqLabelWithNumbers": true,
   "eqNumInitial": 1,
   "hotkeys": {
    "equation": "Ctrl-E",
    "itemize": "Ctrl-I"
   },
   "labels_anchors": false,
   "latex_user_defs": false,
   "report_style_numbering": false,
   "user_envs_cfg": false
  },
  "toc": {
   "base_numbering": 1,
   "nav_menu": {},
   "number_sections": true,
   "sideBar": true,
   "skip_h1_title": false,
   "title_cell": "Table of Contents",
   "title_sidebar": "Contents",
   "toc_cell": false,
   "toc_position": {},
   "toc_section_display": true,
   "toc_window_display": false
  },
  "varInspector": {
   "cols": {
    "lenName": 16,
    "lenType": 16,
    "lenVar": 40
   },
   "kernels_config": {
    "python": {
     "delete_cmd_postfix": "",
     "delete_cmd_prefix": "del ",
     "library": "var_list.py",
     "varRefreshCmd": "print(var_dic_list())"
    },
    "r": {
     "delete_cmd_postfix": ") ",
     "delete_cmd_prefix": "rm(",
     "library": "var_list.r",
     "varRefreshCmd": "cat(var_dic_list()) "
    }
   },
   "position": {
    "height": "311px",
    "left": "697px",
    "right": "20px",
    "top": "63px",
    "width": "350px"
   },
   "types_to_exclude": [
    "module",
    "function",
    "builtin_function_or_method",
    "instance",
    "_Feature"
   ],
   "window_display": true
  }
 },
 "nbformat": 4,
 "nbformat_minor": 4
}
