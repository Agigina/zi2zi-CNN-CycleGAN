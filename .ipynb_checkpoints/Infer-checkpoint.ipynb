{
 "cells": [
  {
   "cell_type": "markdown",
   "metadata": {},
   "source": [
    "# Test GPU+CUDA"
   ]
  },
  {
   "cell_type": "code",
   "execution_count": 1,
   "metadata": {
    "ExecuteTime": {
     "end_time": "2020-06-09T21:05:39.042645Z",
     "start_time": "2020-06-09T21:05:34.525646Z"
    },
    "jupyter": {
     "outputs_hidden": true
    }
   },
   "outputs": [
    {
     "data": {
      "text/plain": [
       "'1.8.0'"
      ]
     },
     "execution_count": 1,
     "metadata": {},
     "output_type": "execute_result"
    }
   ],
   "source": [
    "import tensorflow as tf\n",
    "tf.__version__"
   ]
  },
  {
   "cell_type": "code",
   "execution_count": 2,
   "metadata": {
    "ExecuteTime": {
     "end_time": "2020-06-09T21:05:40.961644Z",
     "start_time": "2020-06-09T21:05:39.045644Z"
    }
   },
   "outputs": [
    {
     "name": "stdout",
     "output_type": "stream",
     "text": [
      "[[22. 28.]\n",
      " [49. 64.]]\n"
     ]
    }
   ],
   "source": [
    "a = tf.constant([1.0, 2.0, 3.0 ,4.0, 5.0, 6.0], shape=[2, 3], name='a')\n",
    "b = tf.constant([1.0, 2.0, 3.0 ,4.0, 5.0, 6.0], shape=[3, 2], name='b')\n",
    "c = tf.matmul(a, b)\n",
    "\n",
    "sess = tf.Session(config=tf.ConfigProto(log_device_placement=True))\n",
    "\n",
    "print(sess.run(c))"
   ]
  },
  {
   "cell_type": "code",
   "execution_count": 3,
   "metadata": {
    "ExecuteTime": {
     "end_time": "2020-06-09T21:05:41.032645Z",
     "start_time": "2020-06-09T21:05:40.965645Z"
    }
   },
   "outputs": [
    {
     "name": "stdout",
     "output_type": "stream",
     "text": [
      "[name: \"/device:CPU:0\"\n",
      "device_type: \"CPU\"\n",
      "memory_limit: 268435456\n",
      "locality {\n",
      "}\n",
      "incarnation: 14609748335408716091\n",
      ", name: \"/device:GPU:0\"\n",
      "device_type: \"GPU\"\n",
      "memory_limit: 1479989657\n",
      "locality {\n",
      "  bus_id: 1\n",
      "  links {\n",
      "  }\n",
      "}\n",
      "incarnation: 1614080157779094593\n",
      "physical_device_desc: \"device: 0, name: GeForce 940MX, pci bus id: 0000:01:00.0, compute capability: 5.0\"\n",
      "]\n"
     ]
    }
   ],
   "source": [
    "from tensorflow.python.client import device_lib\n",
    "print(device_lib.list_local_devices())\n"
   ]
  },
  {
   "cell_type": "code",
   "execution_count": null,
   "metadata": {},
   "outputs": [],
   "source": [
    "# -*- coding: utf-8 -*-\n",
    "from __future__ import absolute_import\n",
    "from __future__ import print_function\n",
    "from model.preprocessing_helper import CANVAS_SIZE, EMBEDDING_DIM\n",
    "from model.unet import UNet\n",
    "\n",
    "\n",
    "config = tf.ConfigProto()\n",
    "config.gpu_options.allow_growth = True"
   ]
  },
  {
   "cell_type": "markdown",
   "metadata": {},
   "source": [
    "# Infer"
   ]
  },
  {
   "cell_type": "code",
   "execution_count": null,
   "metadata": {
    "ExecuteTime": {
     "end_time": "2020-06-09T19:04:05.383593Z",
     "start_time": "2020-06-09T19:04:05.378593Z"
    }
   },
   "outputs": [],
   "source": [
    "# -*- coding: utf-8 -*-\n",
    "import os\n",
    "from model.utils import compile_frames_to_gif"
   ]
  },
  {
   "cell_type": "code",
   "execution_count": null,
   "metadata": {
    "ExecuteTime": {
     "end_time": "2020-06-09T19:04:06.007597Z",
     "start_time": "2020-06-09T19:04:05.999603Z"
    },
    "scrolled": true
   },
   "outputs": [],
   "source": [
    "################ infer-params ###############\n",
    "\n",
    "model_dir='experiments_finetune/checkpoint/experiment_0'  # directory that saves the model checkpoints\n",
    "batch_size=32       # directory that saves the model checkpoints\n",
    "source_obj='experiments_finetune/data/val.obj'   # the source images for inference\n",
    "embedding_ids='67'     # embeddings involved\n",
    "save_dir='save_dir/'  # path to save inferred images\n",
    "inst_norm=0         # use conditional instance normalization in your model\n",
    "interpolate=0       # interpolate between different embedding vectors\n",
    "steps=10            # interpolation steps in between vectors\n",
    "output_gif='0'        # output name transition gif\n",
    "uroboros=0          # Shōnen yo, you have stepped into uncharted territory"
   ]
  },
  {
   "cell_type": "code",
   "execution_count": null,
   "metadata": {
    "ExecuteTime": {
     "end_time": "2020-06-09T19:04:20.949892Z",
     "start_time": "2020-06-09T19:04:07.098600Z"
    },
    "scrolled": false
   },
   "outputs": [],
   "source": [
    "\n",
    "\n",
    "with tf.Session(config=config) as sess:\n",
    "    model = UNet(batch_size=batch_size)\n",
    "    model.register_session(sess)\n",
    "    model.build_model(is_training=False, inst_norm=inst_norm)\n",
    "    embedding_ids = [int(i) for i in embedding_ids.split(\",\")]\n",
    "    if not interpolate:\n",
    "        if len(embedding_ids) == 1:\n",
    "            embedding_ids = embedding_ids[0]\n",
    "        model.infer(model_dir=model_dir, source_obj=source_obj, embedding_ids=embedding_ids,\n",
    "                    save_dir=save_dir)\n",
    "    else:\n",
    "        if len(embedding_ids) < 2:\n",
    "            raise Exception(\"no need to interpolate yourself unless you are a narcissist\")\n",
    "        chains = embedding_ids[:]\n",
    "        if uroboros:\n",
    "            chains.append(chains[0])\n",
    "        pairs = list()\n",
    "        for i in range(len(chains) - 1):\n",
    "            pairs.append((chains[i], chains[i + 1]))\n",
    "        for s, e in pairs:\n",
    "            model.interpolate(model_dir=model_dir, source_obj=source_obj, between=[s, e],\n",
    "                              save_dir=save_dir, steps=steps)\n",
    "        if output_gif:\n",
    "            gif_path = os.path.join(save_dir, output_gif)\n",
    "            compile_frames_to_gif(save_dir, gif_path)\n",
    "            print(\"gif saved at %s\" % gif_path)\n",
    "\n",
    "\n"
   ]
  },
  {
   "cell_type": "code",
   "execution_count": null,
   "metadata": {},
   "outputs": [],
   "source": []
  }
 ],
 "metadata": {
  "kernelspec": {
   "display_name": "gpu",
   "language": "python",
   "name": "gpu"
  },
  "language_info": {
   "codemirror_mode": {
    "name": "ipython",
    "version": 3
   },
   "file_extension": ".py",
   "mimetype": "text/x-python",
   "name": "python",
   "nbconvert_exporter": "python",
   "pygments_lexer": "ipython3",
   "version": "3.6.10"
  },
  "latex_envs": {
   "LaTeX_envs_menu_present": true,
   "autoclose": false,
   "autocomplete": true,
   "bibliofile": "biblio.bib",
   "cite_by": "apalike",
   "current_citInitial": 1,
   "eqLabelWithNumbers": true,
   "eqNumInitial": 1,
   "hotkeys": {
    "equation": "Ctrl-E",
    "itemize": "Ctrl-I"
   },
   "labels_anchors": false,
   "latex_user_defs": false,
   "report_style_numbering": false,
   "user_envs_cfg": false
  },
  "toc": {
   "base_numbering": 1,
   "nav_menu": {},
   "number_sections": true,
   "sideBar": true,
   "skip_h1_title": false,
   "title_cell": "Table of Contents",
   "title_sidebar": "Contents",
   "toc_cell": false,
   "toc_position": {},
   "toc_section_display": true,
   "toc_window_display": false
  },
  "varInspector": {
   "cols": {
    "lenName": 16,
    "lenType": 16,
    "lenVar": 40
   },
   "kernels_config": {
    "python": {
     "delete_cmd_postfix": "",
     "delete_cmd_prefix": "del ",
     "library": "var_list.py",
     "varRefreshCmd": "print(var_dic_list())"
    },
    "r": {
     "delete_cmd_postfix": ") ",
     "delete_cmd_prefix": "rm(",
     "library": "var_list.r",
     "varRefreshCmd": "cat(var_dic_list()) "
    }
   },
   "position": {
    "height": "311px",
    "left": "697px",
    "right": "20px",
    "top": "63px",
    "width": "350px"
   },
   "types_to_exclude": [
    "module",
    "function",
    "builtin_function_or_method",
    "instance",
    "_Feature"
   ],
   "window_display": false
  }
 },
 "nbformat": 4,
 "nbformat_minor": 4
}
