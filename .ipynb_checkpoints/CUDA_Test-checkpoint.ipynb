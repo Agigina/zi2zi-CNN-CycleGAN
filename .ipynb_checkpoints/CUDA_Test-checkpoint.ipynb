{
 "cells": [
  {
   "cell_type": "code",
   "execution_count": 1,
   "metadata": {
    "collapsed": true,
    "jupyter": {
     "outputs_hidden": true
    }
   },
   "outputs": [
    {
     "data": {
      "text/plain": [
       "'1.8.0'"
      ]
     },
     "execution_count": 1,
     "metadata": {},
     "output_type": "execute_result"
    }
   ],
   "source": [
    "import tensorflow as tf\n",
    "tf.__version__"
   ]
  },
  {
   "cell_type": "code",
   "execution_count": 4,
   "metadata": {},
   "outputs": [
    {
     "name": "stdout",
     "output_type": "stream",
     "text": [
      "[[22. 28.]\n",
      " [49. 64.]]\n"
     ]
    }
   ],
   "source": [
    "a = tf.constant([1.0, 2.0, 3.0 ,4.0, 5.0, 6.0], shape=[2, 3], name='a')\n",
    "b = tf.constant([1.0, 2.0, 3.0 ,4.0, 5.0, 6.0], shape=[3, 2], name='b')\n",
    "c = tf.matmul(a, b)\n",
    "\n",
    "sess = tf.Session(config=tf.ConfigProto(log_device_placement=True))\n",
    "\n",
    "print(sess.run(c))"
   ]
  },
  {
   "cell_type": "code",
   "execution_count": 5,
   "metadata": {},
   "outputs": [
    {
     "name": "stdout",
     "output_type": "stream",
     "text": [
      "[name: \"/device:CPU:0\"\n",
      "device_type: \"CPU\"\n",
      "memory_limit: 268435456\n",
      "locality {\n",
      "}\n",
      "incarnation: 13887070547155825316\n",
      ", name: \"/device:GPU:0\"\n",
      "device_type: \"GPU\"\n",
      "memory_limit: 1479989657\n",
      "locality {\n",
      "  bus_id: 1\n",
      "  links {\n",
      "  }\n",
      "}\n",
      "incarnation: 3918495442698193366\n",
      "physical_device_desc: \"device: 0, name: GeForce 940MX, pci bus id: 0000:01:00.0, compute capability: 5.0\"\n",
      "]\n"
     ]
    }
   ],
   "source": [
    "from tensorflow.python.client import device_lib\n",
    "print(device_lib.list_local_devices())\n"
   ]
  },
  {
   "cell_type": "code",
   "execution_count": 1,
   "metadata": {
    "ExecuteTime": {
     "end_time": "2020-06-09T12:11:07.337166Z",
     "start_time": "2020-06-09T12:10:29.427172Z"
    }
   },
   "outputs": [
    {
     "name": "stdout",
     "output_type": "stream",
     "text": [
      "freeze encoder/decoder weights\n"
     ]
    },
    {
     "name": "stderr",
     "output_type": "stream",
     "text": [
      "2020-06-09 20:10:34.443281: I C:\\users\\nwani\\_bazel_nwani\\mmtm6wb6\\execroot\\org_tensorflow\\tensorflow\\core\\platform\\cpu_feature_guard.cc:140] Your CPU supports instructions that this TensorFlow binary was not compiled to use: AVX AVX2\n",
      "2020-06-09 20:10:34.556621: I C:\\users\\nwani\\_bazel_nwani\\mmtm6wb6\\execroot\\org_tensorflow\\tensorflow\\core\\common_runtime\\gpu\\gpu_device.cc:1356] Found device 0 with properties: \n",
      "name: GeForce 940MX major: 5 minor: 0 memoryClockRate(GHz): 1.2415\n",
      "pciBusID: 0000:01:00.0\n",
      "totalMemory: 2.00GiB freeMemory: 1.65GiB\n",
      "2020-06-09 20:10:34.558513: I C:\\users\\nwani\\_bazel_nwani\\mmtm6wb6\\execroot\\org_tensorflow\\tensorflow\\core\\common_runtime\\gpu\\gpu_device.cc:1435] Adding visible gpu devices: 0\n",
      "2020-06-09 20:10:37.110662: I C:\\users\\nwani\\_bazel_nwani\\mmtm6wb6\\execroot\\org_tensorflow\\tensorflow\\core\\common_runtime\\gpu\\gpu_device.cc:923] Device interconnect StreamExecutor with strength 1 edge matrix:\n",
      "2020-06-09 20:10:37.111182: I C:\\users\\nwani\\_bazel_nwani\\mmtm6wb6\\execroot\\org_tensorflow\\tensorflow\\core\\common_runtime\\gpu\\gpu_device.cc:929]      0 \n",
      "2020-06-09 20:10:37.111465: I C:\\users\\nwani\\_bazel_nwani\\mmtm6wb6\\execroot\\org_tensorflow\\tensorflow\\core\\common_runtime\\gpu\\gpu_device.cc:942] 0:   N \n",
      "2020-06-09 20:10:37.111987: I C:\\users\\nwani\\_bazel_nwani\\mmtm6wb6\\execroot\\org_tensorflow\\tensorflow\\core\\common_runtime\\gpu\\gpu_device.cc:1053] Created TensorFlow device (/job:localhost/replica:0/task:0/device:GPU:0 with 1370 MB memory) -> physical GPU (device: 0, name: GeForce 940MX, pci bus id: 0000:01:00.0, compute capability: 5.0)\n",
      "2020-06-09 20:10:55.790746: E C:\\users\\nwani\\_bazel_nwani\\mmtm6wb6\\execroot\\org_tensorflow\\tensorflow\\stream_executor\\cuda\\cuda_driver.cc:936] failed to allocate 512.00M (536870912 bytes) from device: CUDA_ERROR_OUT_OF_MEMORY\n",
      "2020-06-09 20:10:55.791100: E C:\\users\\nwani\\_bazel_nwani\\mmtm6wb6\\execroot\\org_tensorflow\\tensorflow\\stream_executor\\cuda\\cuda_driver.cc:936] failed to allocate 460.80M (483183872 bytes) from device: CUDA_ERROR_OUT_OF_MEMORY\n",
      "2020-06-09 20:10:55.791545: E C:\\users\\nwani\\_bazel_nwani\\mmtm6wb6\\execroot\\org_tensorflow\\tensorflow\\stream_executor\\cuda\\cuda_driver.cc:936] failed to allocate 414.72M (434865664 bytes) from device: CUDA_ERROR_OUT_OF_MEMORY\n",
      "2020-06-09 20:10:55.791874: E C:\\users\\nwani\\_bazel_nwani\\mmtm6wb6\\execroot\\org_tensorflow\\tensorflow\\stream_executor\\cuda\\cuda_driver.cc:936] failed to allocate 373.25M (391379200 bytes) from device: CUDA_ERROR_OUT_OF_MEMORY\n",
      "2020-06-09 20:10:55.792058: E C:\\users\\nwani\\_bazel_nwani\\mmtm6wb6\\execroot\\org_tensorflow\\tensorflow\\stream_executor\\cuda\\cuda_driver.cc:936] failed to allocate 335.92M (352241408 bytes) from device: CUDA_ERROR_OUT_OF_MEMORY\n",
      "2020-06-09 20:10:55.792455: E C:\\users\\nwani\\_bazel_nwani\\mmtm6wb6\\execroot\\org_tensorflow\\tensorflow\\stream_executor\\cuda\\cuda_driver.cc:936] failed to allocate 302.33M (317017344 bytes) from device: CUDA_ERROR_OUT_OF_MEMORY\n",
      "2020-06-09 20:10:56.033351: E C:\\users\\nwani\\_bazel_nwani\\mmtm6wb6\\execroot\\org_tensorflow\\tensorflow\\stream_executor\\cuda\\cuda_driver.cc:936] failed to allocate 451.58M (473518848 bytes) from device: CUDA_ERROR_OUT_OF_MEMORY\n",
      "2020-06-09 20:10:56.035862: E C:\\users\\nwani\\_bazel_nwani\\mmtm6wb6\\execroot\\org_tensorflow\\tensorflow\\stream_executor\\cuda\\cuda_driver.cc:936] failed to allocate 451.58M (473518848 bytes) from device: CUDA_ERROR_OUT_OF_MEMORY\n",
      "2020-06-09 20:11:06.038403: E C:\\users\\nwani\\_bazel_nwani\\mmtm6wb6\\execroot\\org_tensorflow\\tensorflow\\stream_executor\\cuda\\cuda_driver.cc:936] failed to allocate 451.58M (473518848 bytes) from device: CUDA_ERROR_OUT_OF_MEMORY\n",
      "2020-06-09 20:11:06.039008: E C:\\users\\nwani\\_bazel_nwani\\mmtm6wb6\\execroot\\org_tensorflow\\tensorflow\\stream_executor\\cuda\\cuda_driver.cc:936] failed to allocate 451.58M (473518848 bytes) from device: CUDA_ERROR_OUT_OF_MEMORY\n",
      "2020-06-09 20:11:06.039472: W C:\\users\\nwani\\_bazel_nwani\\mmtm6wb6\\execroot\\org_tensorflow\\tensorflow\\core\\common_runtime\\bfc_allocator.cc:275] Allocator (GPU_0_bfc) ran out of memory trying to allocate 370.00MiB.  Current allocation summary follows.\n",
      "2020-06-09 20:11:06.040097: I C:\\users\\nwani\\_bazel_nwani\\mmtm6wb6\\execroot\\org_tensorflow\\tensorflow\\core\\common_runtime\\bfc_allocator.cc:630] Bin (256): \tTotal Chunks: 33, Chunks in use: 33. 8.3KiB allocated for chunks. 8.3KiB in use in bin. 1.6KiB client-requested in use in bin.\n",
      "2020-06-09 20:11:06.040813: I C:\\users\\nwani\\_bazel_nwani\\mmtm6wb6\\execroot\\org_tensorflow\\tensorflow\\core\\common_runtime\\bfc_allocator.cc:630] Bin (512): \tTotal Chunks: 24, Chunks in use: 24. 12.5KiB allocated for chunks. 12.5KiB in use in bin. 12.4KiB client-requested in use in bin.\n",
      "2020-06-09 20:11:06.041410: I C:\\users\\nwani\\_bazel_nwani\\mmtm6wb6\\execroot\\org_tensorflow\\tensorflow\\core\\common_runtime\\bfc_allocator.cc:630] Bin (1024): \tTotal Chunks: 23, Chunks in use: 23. 23.3KiB allocated for chunks. 23.3KiB in use in bin. 23.0KiB client-requested in use in bin.\n",
      "2020-06-09 20:11:06.041987: I C:\\users\\nwani\\_bazel_nwani\\mmtm6wb6\\execroot\\org_tensorflow\\tensorflow\\core\\common_runtime\\bfc_allocator.cc:630] Bin (2048): \tTotal Chunks: 68, Chunks in use: 68. 136.0KiB allocated for chunks. 136.0KiB in use in bin. 136.0KiB client-requested in use in bin.\n",
      "2020-06-09 20:11:06.042338: I C:\\users\\nwani\\_bazel_nwani\\mmtm6wb6\\execroot\\org_tensorflow\\tensorflow\\core\\common_runtime\\bfc_allocator.cc:630] Bin (4096): \tTotal Chunks: 1, Chunks in use: 1. 6.3KiB allocated for chunks. 6.3KiB in use in bin. 6.3KiB client-requested in use in bin.\n",
      "2020-06-09 20:11:06.043007: I C:\\users\\nwani\\_bazel_nwani\\mmtm6wb6\\execroot\\org_tensorflow\\tensorflow\\core\\common_runtime\\bfc_allocator.cc:630] Bin (8192): \tTotal Chunks: 2, Chunks in use: 2. 25.0KiB allocated for chunks. 25.0KiB in use in bin. 25.0KiB client-requested in use in bin.\n",
      "2020-06-09 20:11:06.043562: I C:\\users\\nwani\\_bazel_nwani\\mmtm6wb6\\execroot\\org_tensorflow\\tensorflow\\core\\common_runtime\\bfc_allocator.cc:630] Bin (16384): \tTotal Chunks: 0, Chunks in use: 0. 0B allocated for chunks. 0B in use in bin. 0B client-requested in use in bin.\n",
      "2020-06-09 20:11:06.044048: I C:\\users\\nwani\\_bazel_nwani\\mmtm6wb6\\execroot\\org_tensorflow\\tensorflow\\core\\common_runtime\\bfc_allocator.cc:630] Bin (32768): \tTotal Chunks: 4, Chunks in use: 4. 185.0KiB allocated for chunks. 185.0KiB in use in bin. 185.0KiB client-requested in use in bin.\n",
      "2020-06-09 20:11:06.044486: I C:\\users\\nwani\\_bazel_nwani\\mmtm6wb6\\execroot\\org_tensorflow\\tensorflow\\core\\common_runtime\\bfc_allocator.cc:630] Bin (65536): \tTotal Chunks: 5, Chunks in use: 5. 462.5KiB allocated for chunks. 462.5KiB in use in bin. 462.5KiB client-requested in use in bin.\n",
      "2020-06-09 20:11:06.045125: I C:\\users\\nwani\\_bazel_nwani\\mmtm6wb6\\execroot\\org_tensorflow\\tensorflow\\core\\common_runtime\\bfc_allocator.cc:630] Bin (131072): \tTotal Chunks: 4, Chunks in use: 4. 740.0KiB allocated for chunks. 740.0KiB in use in bin. 740.0KiB client-requested in use in bin.\n",
      "2020-06-09 20:11:06.045767: I C:\\users\\nwani\\_bazel_nwani\\mmtm6wb6\\execroot\\org_tensorflow\\tensorflow\\core\\common_runtime\\bfc_allocator.cc:630] Bin (262144): \tTotal Chunks: 14, Chunks in use: 14. 5.06MiB allocated for chunks. 5.06MiB in use in bin. 5.06MiB client-requested in use in bin.\n",
      "2020-06-09 20:11:06.046477: I C:\\users\\nwani\\_bazel_nwani\\mmtm6wb6\\execroot\\org_tensorflow\\tensorflow\\core\\common_runtime\\bfc_allocator.cc:630] Bin (524288): \tTotal Chunks: 4, Chunks in use: 4. 2.73MiB allocated for chunks. 2.73MiB in use in bin. 2.29MiB client-requested in use in bin.\n",
      "2020-06-09 20:11:06.046887: I C:\\users\\nwani\\_bazel_nwani\\mmtm6wb6\\execroot\\org_tensorflow\\tensorflow\\core\\common_runtime\\bfc_allocator.cc:630] Bin (1048576): \tTotal Chunks: 1, Chunks in use: 1. 1.56MiB allocated for chunks. 1.56MiB in use in bin. 1.56MiB client-requested in use in bin.\n",
      "2020-06-09 20:11:06.047441: I C:\\users\\nwani\\_bazel_nwani\\mmtm6wb6\\execroot\\org_tensorflow\\tensorflow\\core\\common_runtime\\bfc_allocator.cc:630] Bin (2097152): \tTotal Chunks: 4, Chunks in use: 3. 11.15MiB allocated for chunks. 8.25MiB in use in bin. 8.25MiB client-requested in use in bin.\n",
      "2020-06-09 20:11:06.048115: I C:\\users\\nwani\\_bazel_nwani\\mmtm6wb6\\execroot\\org_tensorflow\\tensorflow\\core\\common_runtime\\bfc_allocator.cc:630] Bin (4194304): \tTotal Chunks: 2, Chunks in use: 1. 11.44MiB allocated for chunks. 6.25MiB in use in bin. 6.25MiB client-requested in use in bin.\n",
      "2020-06-09 20:11:06.048858: I C:\\users\\nwani\\_bazel_nwani\\mmtm6wb6\\execroot\\org_tensorflow\\tensorflow\\core\\common_runtime\\bfc_allocator.cc:630] Bin (8388608): \tTotal Chunks: 2, Chunks in use: 2. 25.00MiB allocated for chunks. 25.00MiB in use in bin. 25.00MiB client-requested in use in bin.\n",
      "2020-06-09 20:11:06.049476: I C:\\users\\nwani\\_bazel_nwani\\mmtm6wb6\\execroot\\org_tensorflow\\tensorflow\\core\\common_runtime\\bfc_allocator.cc:630] Bin (16777216): \tTotal Chunks: 5, Chunks in use: 4. 131.25MiB allocated for chunks. 106.25MiB in use in bin. 106.25MiB client-requested in use in bin.\n",
      "2020-06-09 20:11:06.049996: I C:\\users\\nwani\\_bazel_nwani\\mmtm6wb6\\execroot\\org_tensorflow\\tensorflow\\core\\common_runtime\\bfc_allocator.cc:630] Bin (33554432): \tTotal Chunks: 5, Chunks in use: 5. 224.75MiB allocated for chunks. 224.75MiB in use in bin. 200.00MiB client-requested in use in bin.\n",
      "2020-06-09 20:11:06.050541: I C:\\users\\nwani\\_bazel_nwani\\mmtm6wb6\\execroot\\org_tensorflow\\tensorflow\\core\\common_runtime\\bfc_allocator.cc:630] Bin (67108864): \tTotal Chunks: 0, Chunks in use: 0. 0B allocated for chunks. 0B in use in bin. 0B client-requested in use in bin.\n",
      "2020-06-09 20:11:06.050937: I C:\\users\\nwani\\_bazel_nwani\\mmtm6wb6\\execroot\\org_tensorflow\\tensorflow\\core\\common_runtime\\bfc_allocator.cc:630] Bin (134217728): \tTotal Chunks: 1, Chunks in use: 0. 134.60MiB allocated for chunks. 0B in use in bin. 0B client-requested in use in bin.\n",
      "2020-06-09 20:11:06.051431: I C:\\users\\nwani\\_bazel_nwani\\mmtm6wb6\\execroot\\org_tensorflow\\tensorflow\\core\\common_runtime\\bfc_allocator.cc:630] Bin (268435456): \tTotal Chunks: 1, Chunks in use: 1. 370.00MiB allocated for chunks. 370.00MiB in use in bin. 370.00MiB client-requested in use in bin.\n",
      "2020-06-09 20:11:06.051899: I C:\\users\\nwani\\_bazel_nwani\\mmtm6wb6\\execroot\\org_tensorflow\\tensorflow\\core\\common_runtime\\bfc_allocator.cc:646] Bin for 370.00MiB was 256.00MiB, Chunk State: \n",
      "2020-06-09 20:11:06.052232: I C:\\users\\nwani\\_bazel_nwani\\mmtm6wb6\\execroot\\org_tensorflow\\tensorflow\\core\\common_runtime\\bfc_allocator.cc:665] Chunk at 0000000701240000 of size 1280\n",
      "2020-06-09 20:11:06.052470: I C:\\users\\nwani\\_bazel_nwani\\mmtm6wb6\\execroot\\org_tensorflow\\tensorflow\\core\\common_runtime\\bfc_allocator.cc:665] Chunk at 0000000701240500 of size 512\n",
      "2020-06-09 20:11:06.052752: I C:\\users\\nwani\\_bazel_nwani\\mmtm6wb6\\execroot\\org_tensorflow\\tensorflow\\core\\common_runtime\\bfc_allocator.cc:665] Chunk at 0000000701240700 of size 512\n",
      "2020-06-09 20:11:06.053133: I C:\\users\\nwani\\_bazel_nwani\\mmtm6wb6\\execroot\\org_tensorflow\\tensorflow\\core\\common_runtime\\bfc_allocator.cc:665] Chunk at 0000000701240900 of size 512\n",
      "2020-06-09 20:11:06.053537: I C:\\users\\nwani\\_bazel_nwani\\mmtm6wb6\\execroot\\org_tensorflow\\tensorflow\\core\\common_runtime\\bfc_allocator.cc:665] Chunk at 0000000701240B00 of size 512\n",
      "2020-06-09 20:11:06.053830: I C:\\users\\nwani\\_bazel_nwani\\mmtm6wb6\\execroot\\org_tensorflow\\tensorflow\\core\\common_runtime\\bfc_allocator.cc:665] Chunk at 0000000701240D00 of size 1024\n",
      "2020-06-09 20:11:06.054241: I C:\\users\\nwani\\_bazel_nwani\\mmtm6wb6\\execroot\\org_tensorflow\\tensorflow\\core\\common_runtime\\bfc_allocator.cc:665] Chunk at 0000000701241100 of size 1024\n",
      "2020-06-09 20:11:06.054518: I C:\\users\\nwani\\_bazel_nwani\\mmtm6wb6\\execroot\\org_tensorflow\\tensorflow\\core\\common_runtime\\bfc_allocator.cc:665] Chunk at 0000000701241500 of size 1024\n",
      "2020-06-09 20:11:06.054750: I C:\\users\\nwani\\_bazel_nwani\\mmtm6wb6\\execroot\\org_tensorflow\\tensorflow\\core\\common_runtime\\bfc_allocator.cc:665] Chunk at 0000000701241900 of size 1024\n",
      "2020-06-09 20:11:06.054979: I C:\\users\\nwani\\_bazel_nwani\\mmtm6wb6\\execroot\\org_tensorflow\\tensorflow\\core\\common_runtime\\bfc_allocator.cc:665] Chunk at 0000000701241D00 of size 2048\n",
      "2020-06-09 20:11:06.055248: I C:\\users\\nwani\\_bazel_nwani\\mmtm6wb6\\execroot\\org_tensorflow\\tensorflow\\core\\common_runtime\\bfc_allocator.cc:665] Chunk at 0000000701242500 of size 2048\n",
      "2020-06-09 20:11:06.055537: I C:\\users\\nwani\\_bazel_nwani\\mmtm6wb6\\execroot\\org_tensorflow\\tensorflow\\core\\common_runtime\\bfc_allocator.cc:665] Chunk at 0000000701242D00 of size 2048\n",
      "2020-06-09 20:11:06.055674: I C:\\users\\nwani\\_bazel_nwani\\mmtm6wb6\\execroot\\org_tensorflow\\tensorflow\\core\\common_runtime\\bfc_allocator.cc:665] Chunk at 0000000701243500 of size 2048\n",
      "2020-06-09 20:11:06.055983: I C:\\users\\nwani\\_bazel_nwani\\mmtm6wb6\\execroot\\org_tensorflow\\tensorflow\\core\\common_runtime\\bfc_allocator.cc:665] Chunk at 0000000701243D00 of size 256\n",
      "2020-06-09 20:11:06.056295: I C:\\users\\nwani\\_bazel_nwani\\mmtm6wb6\\execroot\\org_tensorflow\\tensorflow\\core\\common_runtime\\bfc_allocator.cc:665] Chunk at 0000000701243E00 of size 256\n"
     ]
    },
    {
     "name": "stderr",
     "output_type": "stream",
     "text": [
      "2020-06-09 20:11:06.056544: I C:\\users\\nwani\\_bazel_nwani\\mmtm6wb6\\execroot\\org_tensorflow\\tensorflow\\core\\common_runtime\\bfc_allocator.cc:665] Chunk at 0000000701243F00 of size 256\n",
      "2020-06-09 20:11:06.056751: I C:\\users\\nwani\\_bazel_nwani\\mmtm6wb6\\execroot\\org_tensorflow\\tensorflow\\core\\common_runtime\\bfc_allocator.cc:665] Chunk at 0000000701244000 of size 768\n",
      "2020-06-09 20:11:06.056901: I C:\\users\\nwani\\_bazel_nwani\\mmtm6wb6\\execroot\\org_tensorflow\\tensorflow\\core\\common_runtime\\bfc_allocator.cc:665] Chunk at 0000000701244300 of size 256\n",
      "2020-06-09 20:11:06.057044: I C:\\users\\nwani\\_bazel_nwani\\mmtm6wb6\\execroot\\org_tensorflow\\tensorflow\\core\\common_runtime\\bfc_allocator.cc:665] Chunk at 0000000701244400 of size 256\n",
      "2020-06-09 20:11:06.057421: I C:\\users\\nwani\\_bazel_nwani\\mmtm6wb6\\execroot\\org_tensorflow\\tensorflow\\core\\common_runtime\\bfc_allocator.cc:665] Chunk at 0000000701244500 of size 256\n",
      "2020-06-09 20:11:06.057703: I C:\\users\\nwani\\_bazel_nwani\\mmtm6wb6\\execroot\\org_tensorflow\\tensorflow\\core\\common_runtime\\bfc_allocator.cc:665] Chunk at 0000000701244600 of size 512\n",
      "2020-06-09 20:11:06.058019: I C:\\users\\nwani\\_bazel_nwani\\mmtm6wb6\\execroot\\org_tensorflow\\tensorflow\\core\\common_runtime\\bfc_allocator.cc:665] Chunk at 0000000701244800 of size 256\n",
      "2020-06-09 20:11:06.058326: I C:\\users\\nwani\\_bazel_nwani\\mmtm6wb6\\execroot\\org_tensorflow\\tensorflow\\core\\common_runtime\\bfc_allocator.cc:665] Chunk at 0000000701244900 of size 1024\n",
      "2020-06-09 20:11:06.058680: I C:\\users\\nwani\\_bazel_nwani\\mmtm6wb6\\execroot\\org_tensorflow\\tensorflow\\core\\common_runtime\\bfc_allocator.cc:665] Chunk at 0000000701244D00 of size 256\n",
      "2020-06-09 20:11:06.058974: I C:\\users\\nwani\\_bazel_nwani\\mmtm6wb6\\execroot\\org_tensorflow\\tensorflow\\core\\common_runtime\\bfc_allocator.cc:665] Chunk at 0000000701244E00 of size 2048\n",
      "2020-06-09 20:11:06.059717: I C:\\users\\nwani\\_bazel_nwani\\mmtm6wb6\\execroot\\org_tensorflow\\tensorflow\\core\\common_runtime\\bfc_allocator.cc:665] Chunk at 0000000701245600 of size 256\n",
      "2020-06-09 20:11:06.060111: I C:\\users\\nwani\\_bazel_nwani\\mmtm6wb6\\execroot\\org_tensorflow\\tensorflow\\core\\common_runtime\\bfc_allocator.cc:665] Chunk at 0000000701245700 of size 256\n",
      "2020-06-09 20:11:06.060399: I C:\\users\\nwani\\_bazel_nwani\\mmtm6wb6\\execroot\\org_tensorflow\\tensorflow\\core\\common_runtime\\bfc_allocator.cc:665] Chunk at 0000000701245800 of size 2048\n",
      "2020-06-09 20:11:06.060795: I C:\\users\\nwani\\_bazel_nwani\\mmtm6wb6\\execroot\\org_tensorflow\\tensorflow\\core\\common_runtime\\bfc_allocator.cc:665] Chunk at 0000000701246000 of size 378880\n",
      "2020-06-09 20:11:06.061078: I C:\\users\\nwani\\_bazel_nwani\\mmtm6wb6\\execroot\\org_tensorflow\\tensorflow\\core\\common_runtime\\bfc_allocator.cc:665] Chunk at 00000007012A2800 of size 645120\n",
      "2020-06-09 20:11:06.061383: I C:\\users\\nwani\\_bazel_nwani\\mmtm6wb6\\execroot\\org_tensorflow\\tensorflow\\core\\common_runtime\\bfc_allocator.cc:665] Chunk at 0000000701340000 of size 256\n",
      "2020-06-09 20:11:06.061683: I C:\\users\\nwani\\_bazel_nwani\\mmtm6wb6\\execroot\\org_tensorflow\\tensorflow\\core\\common_runtime\\bfc_allocator.cc:665] Chunk at 0000000701340100 of size 2048\n",
      "2020-06-09 20:11:06.062029: I C:\\users\\nwani\\_bazel_nwani\\mmtm6wb6\\execroot\\org_tensorflow\\tensorflow\\core\\common_runtime\\bfc_allocator.cc:665] Chunk at 0000000701340900 of size 378880\n",
      "2020-06-09 20:11:06.062390: I C:\\users\\nwani\\_bazel_nwani\\mmtm6wb6\\execroot\\org_tensorflow\\tensorflow\\core\\common_runtime\\bfc_allocator.cc:665] Chunk at 000000070139D100 of size 378880\n",
      "2020-06-09 20:11:06.062737: I C:\\users\\nwani\\_bazel_nwani\\mmtm6wb6\\execroot\\org_tensorflow\\tensorflow\\core\\common_runtime\\bfc_allocator.cc:665] Chunk at 00000007013F9900 of size 256\n",
      "2020-06-09 20:11:06.062927: I C:\\users\\nwani\\_bazel_nwani\\mmtm6wb6\\execroot\\org_tensorflow\\tensorflow\\core\\common_runtime\\bfc_allocator.cc:665] Chunk at 00000007013F9A00 of size 2048\n",
      "2020-06-09 20:11:06.063075: I C:\\users\\nwani\\_bazel_nwani\\mmtm6wb6\\execroot\\org_tensorflow\\tensorflow\\core\\common_runtime\\bfc_allocator.cc:665] Chunk at 00000007013FA200 of size 378880\n",
      "2020-06-09 20:11:06.063342: I C:\\users\\nwani\\_bazel_nwani\\mmtm6wb6\\execroot\\org_tensorflow\\tensorflow\\core\\common_runtime\\bfc_allocator.cc:665] Chunk at 0000000701456A00 of size 378880\n",
      "2020-06-09 20:11:06.063812: I C:\\users\\nwani\\_bazel_nwani\\mmtm6wb6\\execroot\\org_tensorflow\\tensorflow\\core\\common_runtime\\bfc_allocator.cc:665] Chunk at 00000007014B3200 of size 256\n",
      "2020-06-09 20:11:06.063976: I C:\\users\\nwani\\_bazel_nwani\\mmtm6wb6\\execroot\\org_tensorflow\\tensorflow\\core\\common_runtime\\bfc_allocator.cc:665] Chunk at 00000007014B3300 of size 2048\n",
      "2020-06-09 20:11:06.064320: I C:\\users\\nwani\\_bazel_nwani\\mmtm6wb6\\execroot\\org_tensorflow\\tensorflow\\core\\common_runtime\\bfc_allocator.cc:665] Chunk at 00000007014B3B00 of size 574720\n",
      "2020-06-09 20:11:06.064653: I C:\\users\\nwani\\_bazel_nwani\\mmtm6wb6\\execroot\\org_tensorflow\\tensorflow\\core\\common_runtime\\bfc_allocator.cc:665] Chunk at 0000000701540000 of size 378880\n",
      "2020-06-09 20:11:06.064890: I C:\\users\\nwani\\_bazel_nwani\\mmtm6wb6\\execroot\\org_tensorflow\\tensorflow\\core\\common_runtime\\bfc_allocator.cc:665] Chunk at 000000070159C800 of size 256\n",
      "2020-06-09 20:11:06.065200: I C:\\users\\nwani\\_bazel_nwani\\mmtm6wb6\\execroot\\org_tensorflow\\tensorflow\\core\\common_runtime\\bfc_allocator.cc:665] Chunk at 000000070159C900 of size 1024\n",
      "2020-06-09 20:11:06.065448: I C:\\users\\nwani\\_bazel_nwani\\mmtm6wb6\\execroot\\org_tensorflow\\tensorflow\\core\\common_runtime\\bfc_allocator.cc:665] Chunk at 000000070159CD00 of size 189440\n",
      "2020-06-09 20:11:06.065625: I C:\\users\\nwani\\_bazel_nwani\\mmtm6wb6\\execroot\\org_tensorflow\\tensorflow\\core\\common_runtime\\bfc_allocator.cc:665] Chunk at 00000007015CB100 of size 189440\n",
      "2020-06-09 20:11:06.066022: I C:\\users\\nwani\\_bazel_nwani\\mmtm6wb6\\execroot\\org_tensorflow\\tensorflow\\core\\common_runtime\\bfc_allocator.cc:665] Chunk at 00000007015F9500 of size 256\n",
      "2020-06-09 20:11:06.066308: I C:\\users\\nwani\\_bazel_nwani\\mmtm6wb6\\execroot\\org_tensorflow\\tensorflow\\core\\common_runtime\\bfc_allocator.cc:665] Chunk at 00000007015F9600 of size 512\n",
      "2020-06-09 20:11:06.066561: I C:\\users\\nwani\\_bazel_nwani\\mmtm6wb6\\execroot\\org_tensorflow\\tensorflow\\core\\common_runtime\\bfc_allocator.cc:665] Chunk at 00000007015F9800 of size 94720\n",
      "2020-06-09 20:11:06.066791: I C:\\users\\nwani\\_bazel_nwani\\mmtm6wb6\\execroot\\org_tensorflow\\tensorflow\\core\\common_runtime\\bfc_allocator.cc:665] Chunk at 0000000701610A00 of size 94720\n",
      "2020-06-09 20:11:06.067067: I C:\\users\\nwani\\_bazel_nwani\\mmtm6wb6\\execroot\\org_tensorflow\\tensorflow\\core\\common_runtime\\bfc_allocator.cc:665] Chunk at 0000000701627C00 of size 256\n",
      "2020-06-09 20:11:06.067283: I C:\\users\\nwani\\_bazel_nwani\\mmtm6wb6\\execroot\\org_tensorflow\\tensorflow\\core\\common_runtime\\bfc_allocator.cc:665] Chunk at 0000000701627D00 of size 256\n",
      "2020-06-09 20:11:06.067600: I C:\\users\\nwani\\_bazel_nwani\\mmtm6wb6\\execroot\\org_tensorflow\\tensorflow\\core\\common_runtime\\bfc_allocator.cc:665] Chunk at 0000000701627E00 of size 47360\n",
      "2020-06-09 20:11:06.067906: I C:\\users\\nwani\\_bazel_nwani\\mmtm6wb6\\execroot\\org_tensorflow\\tensorflow\\core\\common_runtime\\bfc_allocator.cc:665] Chunk at 0000000701633700 of size 47360\n",
      "2020-06-09 20:11:06.068157: I C:\\users\\nwani\\_bazel_nwani\\mmtm6wb6\\execroot\\org_tensorflow\\tensorflow\\core\\common_runtime\\bfc_allocator.cc:665] Chunk at 000000070163F000 of size 256\n",
      "2020-06-09 20:11:06.068335: I C:\\users\\nwani\\_bazel_nwani\\mmtm6wb6\\execroot\\org_tensorflow\\tensorflow\\core\\common_runtime\\bfc_allocator.cc:665] Chunk at 000000070163F100 of size 256\n",
      "2020-06-09 20:11:06.068673: I C:\\users\\nwani\\_bazel_nwani\\mmtm6wb6\\execroot\\org_tensorflow\\tensorflow\\core\\common_runtime\\bfc_allocator.cc:665] Chunk at 000000070163F200 of size 256\n",
      "2020-06-09 20:11:06.068903: I C:\\users\\nwani\\_bazel_nwani\\mmtm6wb6\\execroot\\org_tensorflow\\tensorflow\\core\\common_runtime\\bfc_allocator.cc:665] Chunk at 000000070163F300 of size 256\n",
      "2020-06-09 20:11:06.069317: I C:\\users\\nwani\\_bazel_nwani\\mmtm6wb6\\execroot\\org_tensorflow\\tensorflow\\core\\common_runtime\\bfc_allocator.cc:665] Chunk at 000000070163F400 of size 512\n",
      "2020-06-09 20:11:06.069610: I C:\\users\\nwani\\_bazel_nwani\\mmtm6wb6\\execroot\\org_tensorflow\\tensorflow\\core\\common_runtime\\bfc_allocator.cc:665] Chunk at 000000070163F600 of size 512\n",
      "2020-06-09 20:11:06.069900: I C:\\users\\nwani\\_bazel_nwani\\mmtm6wb6\\execroot\\org_tensorflow\\tensorflow\\core\\common_runtime\\bfc_allocator.cc:665] Chunk at 000000070163F800 of size 512\n",
      "2020-06-09 20:11:06.070237: I C:\\users\\nwani\\_bazel_nwani\\mmtm6wb6\\execroot\\org_tensorflow\\tensorflow\\core\\common_runtime\\bfc_allocator.cc:665] Chunk at 000000070163FA00 of size 512\n",
      "2020-06-09 20:11:06.070632: I C:\\users\\nwani\\_bazel_nwani\\mmtm6wb6\\execroot\\org_tensorflow\\tensorflow\\core\\common_runtime\\bfc_allocator.cc:665] Chunk at 000000070163FC00 of size 256\n",
      "2020-06-09 20:11:06.070898: I C:\\users\\nwani\\_bazel_nwani\\mmtm6wb6\\execroot\\org_tensorflow\\tensorflow\\core\\common_runtime\\bfc_allocator.cc:665] Chunk at 000000070163FD00 of size 512\n",
      "2020-06-09 20:11:06.071130: I C:\\users\\nwani\\_bazel_nwani\\mmtm6wb6\\execroot\\org_tensorflow\\tensorflow\\core\\common_runtime\\bfc_allocator.cc:665] Chunk at 000000070163FF00 of size 1024\n",
      "2020-06-09 20:11:06.071400: I C:\\users\\nwani\\_bazel_nwani\\mmtm6wb6\\execroot\\org_tensorflow\\tensorflow\\core\\common_runtime\\bfc_allocator.cc:665] Chunk at 0000000701640300 of size 1024\n",
      "2020-06-09 20:11:06.071595: I C:\\users\\nwani\\_bazel_nwani\\mmtm6wb6\\execroot\\org_tensorflow\\tensorflow\\core\\common_runtime\\bfc_allocator.cc:665] Chunk at 0000000701640700 of size 1024\n",
      "2020-06-09 20:11:06.071878: I C:\\users\\nwani\\_bazel_nwani\\mmtm6wb6\\execroot\\org_tensorflow\\tensorflow\\core\\common_runtime\\bfc_allocator.cc:665] Chunk at 0000000701640B00 of size 1024\n",
      "2020-06-09 20:11:06.072154: I C:\\users\\nwani\\_bazel_nwani\\mmtm6wb6\\execroot\\org_tensorflow\\tensorflow\\core\\common_runtime\\bfc_allocator.cc:665] Chunk at 0000000701640F00 of size 256\n",
      "2020-06-09 20:11:06.072556: I C:\\users\\nwani\\_bazel_nwani\\mmtm6wb6\\execroot\\org_tensorflow\\tensorflow\\core\\common_runtime\\bfc_allocator.cc:665] Chunk at 0000000701641000 of size 1024\n",
      "2020-06-09 20:11:06.072827: I C:\\users\\nwani\\_bazel_nwani\\mmtm6wb6\\execroot\\org_tensorflow\\tensorflow\\core\\common_runtime\\bfc_allocator.cc:665] Chunk at 0000000701641400 of size 2048\n",
      "2020-06-09 20:11:06.073096: I C:\\users\\nwani\\_bazel_nwani\\mmtm6wb6\\execroot\\org_tensorflow\\tensorflow\\core\\common_runtime\\bfc_allocator.cc:665] Chunk at 0000000701641C00 of size 2048\n",
      "2020-06-09 20:11:06.073447: I C:\\users\\nwani\\_bazel_nwani\\mmtm6wb6\\execroot\\org_tensorflow\\tensorflow\\core\\common_runtime\\bfc_allocator.cc:665] Chunk at 0000000701642400 of size 2048\n",
      "2020-06-09 20:11:06.073804: I C:\\users\\nwani\\_bazel_nwani\\mmtm6wb6\\execroot\\org_tensorflow\\tensorflow\\core\\common_runtime\\bfc_allocator.cc:665] Chunk at 0000000701642C00 of size 2048\n",
      "2020-06-09 20:11:06.074097: I C:\\users\\nwani\\_bazel_nwani\\mmtm6wb6\\execroot\\org_tensorflow\\tensorflow\\core\\common_runtime\\bfc_allocator.cc:665] Chunk at 0000000701643400 of size 256\n",
      "2020-06-09 20:11:06.074492: I C:\\users\\nwani\\_bazel_nwani\\mmtm6wb6\\execroot\\org_tensorflow\\tensorflow\\core\\common_runtime\\bfc_allocator.cc:665] Chunk at 0000000701643500 of size 2048\n",
      "2020-06-09 20:11:06.074780: I C:\\users\\nwani\\_bazel_nwani\\mmtm6wb6\\execroot\\org_tensorflow\\tensorflow\\core\\common_runtime\\bfc_allocator.cc:665] Chunk at 0000000701643D00 of size 2048\n",
      "2020-06-09 20:11:06.075083: I C:\\users\\nwani\\_bazel_nwani\\mmtm6wb6\\execroot\\org_tensorflow\\tensorflow\\core\\common_runtime\\bfc_allocator.cc:665] Chunk at 0000000701644500 of size 2048\n",
      "2020-06-09 20:11:06.075491: I C:\\users\\nwani\\_bazel_nwani\\mmtm6wb6\\execroot\\org_tensorflow\\tensorflow\\core\\common_runtime\\bfc_allocator.cc:665] Chunk at 0000000701644D00 of size 2048\n",
      "2020-06-09 20:11:06.075791: I C:\\users\\nwani\\_bazel_nwani\\mmtm6wb6\\execroot\\org_tensorflow\\tensorflow\\core\\common_runtime\\bfc_allocator.cc:665] Chunk at 0000000701645500 of size 2048\n",
      "2020-06-09 20:11:06.076028: I C:\\users\\nwani\\_bazel_nwani\\mmtm6wb6\\execroot\\org_tensorflow\\tensorflow\\core\\common_runtime\\bfc_allocator.cc:665] Chunk at 0000000701645D00 of size 256\n",
      "2020-06-09 20:11:06.076308: I C:\\users\\nwani\\_bazel_nwani\\mmtm6wb6\\execroot\\org_tensorflow\\tensorflow\\core\\common_runtime\\bfc_allocator.cc:665] Chunk at 0000000701645E00 of size 2048\n",
      "2020-06-09 20:11:06.076777: I C:\\users\\nwani\\_bazel_nwani\\mmtm6wb6\\execroot\\org_tensorflow\\tensorflow\\core\\common_runtime\\bfc_allocator.cc:665] Chunk at 0000000701646600 of size 2048\n",
      "2020-06-09 20:11:06.077019: I C:\\users\\nwani\\_bazel_nwani\\mmtm6wb6\\execroot\\org_tensorflow\\tensorflow\\core\\common_runtime\\bfc_allocator.cc:665] Chunk at 0000000701646E00 of size 2048\n",
      "2020-06-09 20:11:06.077262: I C:\\users\\nwani\\_bazel_nwani\\mmtm6wb6\\execroot\\org_tensorflow\\tensorflow\\core\\common_runtime\\bfc_allocator.cc:665] Chunk at 0000000701647600 of size 2048\n",
      "2020-06-09 20:11:06.077728: I C:\\users\\nwani\\_bazel_nwani\\mmtm6wb6\\execroot\\org_tensorflow\\tensorflow\\core\\common_runtime\\bfc_allocator.cc:665] Chunk at 0000000701647E00 of size 2048\n",
      "2020-06-09 20:11:06.078044: I C:\\users\\nwani\\_bazel_nwani\\mmtm6wb6\\execroot\\org_tensorflow\\tensorflow\\core\\common_runtime\\bfc_allocator.cc:665] Chunk at 0000000701648600 of size 256\n",
      "2020-06-09 20:11:06.078455: I C:\\users\\nwani\\_bazel_nwani\\mmtm6wb6\\execroot\\org_tensorflow\\tensorflow\\core\\common_runtime\\bfc_allocator.cc:665] Chunk at 0000000701648700 of size 2048\n",
      "2020-06-09 20:11:06.078824: I C:\\users\\nwani\\_bazel_nwani\\mmtm6wb6\\execroot\\org_tensorflow\\tensorflow\\core\\common_runtime\\bfc_allocator.cc:665] Chunk at 0000000701648F00 of size 2048\n",
      "2020-06-09 20:11:06.079107: I C:\\users\\nwani\\_bazel_nwani\\mmtm6wb6\\execroot\\org_tensorflow\\tensorflow\\core\\common_runtime\\bfc_allocator.cc:665] Chunk at 0000000701649700 of size 2048\n",
      "2020-06-09 20:11:06.079565: I C:\\users\\nwani\\_bazel_nwani\\mmtm6wb6\\execroot\\org_tensorflow\\tensorflow\\core\\common_runtime\\bfc_allocator.cc:665] Chunk at 0000000701649F00 of size 2048\n",
      "2020-06-09 20:11:06.079910: I C:\\users\\nwani\\_bazel_nwani\\mmtm6wb6\\execroot\\org_tensorflow\\tensorflow\\core\\common_runtime\\bfc_allocator.cc:665] Chunk at 000000070164A700 of size 2048\n",
      "2020-06-09 20:11:06.080155: I C:\\users\\nwani\\_bazel_nwani\\mmtm6wb6\\execroot\\org_tensorflow\\tensorflow\\core\\common_runtime\\bfc_allocator.cc:665] Chunk at 000000070164AF00 of size 256\n",
      "2020-06-09 20:11:06.080485: I C:\\users\\nwani\\_bazel_nwani\\mmtm6wb6\\execroot\\org_tensorflow\\tensorflow\\core\\common_runtime\\bfc_allocator.cc:665] Chunk at 000000070164B000 of size 2048\n",
      "2020-06-09 20:11:06.080824: I C:\\users\\nwani\\_bazel_nwani\\mmtm6wb6\\execroot\\org_tensorflow\\tensorflow\\core\\common_runtime\\bfc_allocator.cc:665] Chunk at 000000070164B800 of size 2048\n",
      "2020-06-09 20:11:06.081280: I C:\\users\\nwani\\_bazel_nwani\\mmtm6wb6\\execroot\\org_tensorflow\\tensorflow\\core\\common_runtime\\bfc_allocator.cc:665] Chunk at 000000070164C000 of size 2048\n",
      "2020-06-09 20:11:06.081564: I C:\\users\\nwani\\_bazel_nwani\\mmtm6wb6\\execroot\\org_tensorflow\\tensorflow\\core\\common_runtime\\bfc_allocator.cc:665] Chunk at 000000070164C800 of size 2048\n",
      "2020-06-09 20:11:06.081847: I C:\\users\\nwani\\_bazel_nwani\\mmtm6wb6\\execroot\\org_tensorflow\\tensorflow\\core\\common_runtime\\bfc_allocator.cc:665] Chunk at 000000070164D000 of size 2048\n",
      "2020-06-09 20:11:06.082143: I C:\\users\\nwani\\_bazel_nwani\\mmtm6wb6\\execroot\\org_tensorflow\\tensorflow\\core\\common_runtime\\bfc_allocator.cc:665] Chunk at 000000070164D800 of size 256\n",
      "2020-06-09 20:11:06.082481: I C:\\users\\nwani\\_bazel_nwani\\mmtm6wb6\\execroot\\org_tensorflow\\tensorflow\\core\\common_runtime\\bfc_allocator.cc:665] Chunk at 000000070164D900 of size 2048\n",
      "2020-06-09 20:11:06.082765: I C:\\users\\nwani\\_bazel_nwani\\mmtm6wb6\\execroot\\org_tensorflow\\tensorflow\\core\\common_runtime\\bfc_allocator.cc:665] Chunk at 000000070164E100 of size 2048\n",
      "2020-06-09 20:11:06.082993: I C:\\users\\nwani\\_bazel_nwani\\mmtm6wb6\\execroot\\org_tensorflow\\tensorflow\\core\\common_runtime\\bfc_allocator.cc:665] Chunk at 000000070164E900 of size 2048\n",
      "2020-06-09 20:11:06.083208: I C:\\users\\nwani\\_bazel_nwani\\mmtm6wb6\\execroot\\org_tensorflow\\tensorflow\\core\\common_runtime\\bfc_allocator.cc:665] Chunk at 000000070164F100 of size 2048\n",
      "2020-06-09 20:11:06.083521: I C:\\users\\nwani\\_bazel_nwani\\mmtm6wb6\\execroot\\org_tensorflow\\tensorflow\\core\\common_runtime\\bfc_allocator.cc:665] Chunk at 000000070164F900 of size 2048\n",
      "2020-06-09 20:11:06.083797: I C:\\users\\nwani\\_bazel_nwani\\mmtm6wb6\\execroot\\org_tensorflow\\tensorflow\\core\\common_runtime\\bfc_allocator.cc:665] Chunk at 0000000701650100 of size 2048\n",
      "2020-06-09 20:11:06.084109: I C:\\users\\nwani\\_bazel_nwani\\mmtm6wb6\\execroot\\org_tensorflow\\tensorflow\\core\\common_runtime\\bfc_allocator.cc:665] Chunk at 0000000701650900 of size 2048\n",
      "2020-06-09 20:11:06.084488: I C:\\users\\nwani\\_bazel_nwani\\mmtm6wb6\\execroot\\org_tensorflow\\tensorflow\\core\\common_runtime\\bfc_allocator.cc:665] Chunk at 0000000701651100 of size 2048\n",
      "2020-06-09 20:11:06.084747: I C:\\users\\nwani\\_bazel_nwani\\mmtm6wb6\\execroot\\org_tensorflow\\tensorflow\\core\\common_runtime\\bfc_allocator.cc:665] Chunk at 0000000701651900 of size 2048\n",
      "2020-06-09 20:11:06.085054: I C:\\users\\nwani\\_bazel_nwani\\mmtm6wb6\\execroot\\org_tensorflow\\tensorflow\\core\\common_runtime\\bfc_allocator.cc:665] Chunk at 0000000701652100 of size 2048\n",
      "2020-06-09 20:11:06.085421: I C:\\users\\nwani\\_bazel_nwani\\mmtm6wb6\\execroot\\org_tensorflow\\tensorflow\\core\\common_runtime\\bfc_allocator.cc:665] Chunk at 0000000701652900 of size 2048\n",
      "2020-06-09 20:11:06.085610: I C:\\users\\nwani\\_bazel_nwani\\mmtm6wb6\\execroot\\org_tensorflow\\tensorflow\\core\\common_runtime\\bfc_allocator.cc:665] Chunk at 0000000701653100 of size 2048\n",
      "2020-06-09 20:11:06.085778: I C:\\users\\nwani\\_bazel_nwani\\mmtm6wb6\\execroot\\org_tensorflow\\tensorflow\\core\\common_runtime\\bfc_allocator.cc:665] Chunk at 0000000701653900 of size 2048\n",
      "2020-06-09 20:11:06.086270: I C:\\users\\nwani\\_bazel_nwani\\mmtm6wb6\\execroot\\org_tensorflow\\tensorflow\\core\\common_runtime\\bfc_allocator.cc:665] Chunk at 0000000701654100 of size 2048\n",
      "2020-06-09 20:11:06.086504: I C:\\users\\nwani\\_bazel_nwani\\mmtm6wb6\\execroot\\org_tensorflow\\tensorflow\\core\\common_runtime\\bfc_allocator.cc:665] Chunk at 0000000701654900 of size 2048\n",
      "2020-06-09 20:11:06.086817: I C:\\users\\nwani\\_bazel_nwani\\mmtm6wb6\\execroot\\org_tensorflow\\tensorflow\\core\\common_runtime\\bfc_allocator.cc:665] Chunk at 0000000701655100 of size 512\n",
      "2020-06-09 20:11:06.087059: I C:\\users\\nwani\\_bazel_nwani\\mmtm6wb6\\execroot\\org_tensorflow\\tensorflow\\core\\common_runtime\\bfc_allocator.cc:665] Chunk at 0000000701655300 of size 512\n",
      "2020-06-09 20:11:06.087404: I C:\\users\\nwani\\_bazel_nwani\\mmtm6wb6\\execroot\\org_tensorflow\\tensorflow\\core\\common_runtime\\bfc_allocator.cc:665] Chunk at 0000000701655500 of size 512\n",
      "2020-06-09 20:11:06.087684: I C:\\users\\nwani\\_bazel_nwani\\mmtm6wb6\\execroot\\org_tensorflow\\tensorflow\\core\\common_runtime\\bfc_allocator.cc:665] Chunk at 0000000701655700 of size 512\n",
      "2020-06-09 20:11:06.087944: I C:\\users\\nwani\\_bazel_nwani\\mmtm6wb6\\execroot\\org_tensorflow\\tensorflow\\core\\common_runtime\\bfc_allocator.cc:665] Chunk at 0000000701655900 of size 1024\n",
      "2020-06-09 20:11:06.088274: I C:\\users\\nwani\\_bazel_nwani\\mmtm6wb6\\execroot\\org_tensorflow\\tensorflow\\core\\common_runtime\\bfc_allocator.cc:665] Chunk at 0000000701655D00 of size 1024\n",
      "2020-06-09 20:11:06.088564: I C:\\users\\nwani\\_bazel_nwani\\mmtm6wb6\\execroot\\org_tensorflow\\tensorflow\\core\\common_runtime\\bfc_allocator.cc:665] Chunk at 0000000701656100 of size 1024\n",
      "2020-06-09 20:11:06.088758: I C:\\users\\nwani\\_bazel_nwani\\mmtm6wb6\\execroot\\org_tensorflow\\tensorflow\\core\\common_runtime\\bfc_allocator.cc:665] Chunk at 0000000701656500 of size 1024\n",
      "2020-06-09 20:11:06.088919: I C:\\users\\nwani\\_bazel_nwani\\mmtm6wb6\\execroot\\org_tensorflow\\tensorflow\\core\\common_runtime\\bfc_allocator.cc:665] Chunk at 0000000701656900 of size 2048\n",
      "2020-06-09 20:11:06.089418: I C:\\users\\nwani\\_bazel_nwani\\mmtm6wb6\\execroot\\org_tensorflow\\tensorflow\\core\\common_runtime\\bfc_allocator.cc:665] Chunk at 0000000701657100 of size 2048\n",
      "2020-06-09 20:11:06.089781: I C:\\users\\nwani\\_bazel_nwani\\mmtm6wb6\\execroot\\org_tensorflow\\tensorflow\\core\\common_runtime\\bfc_allocator.cc:665] Chunk at 0000000701657900 of size 2048\n",
      "2020-06-09 20:11:06.089951: I C:\\users\\nwani\\_bazel_nwani\\mmtm6wb6\\execroot\\org_tensorflow\\tensorflow\\core\\common_runtime\\bfc_allocator.cc:665] Chunk at 0000000701658100 of size 2048\n",
      "2020-06-09 20:11:06.090372: I C:\\users\\nwani\\_bazel_nwani\\mmtm6wb6\\execroot\\org_tensorflow\\tensorflow\\core\\common_runtime\\bfc_allocator.cc:665] Free  at 0000000701658900 of size 3045120\n",
      "2020-06-09 20:11:06.090644: I C:\\users\\nwani\\_bazel_nwani\\mmtm6wb6\\execroot\\org_tensorflow\\tensorflow\\core\\common_runtime\\bfc_allocator.cc:665] Chunk at 0000000701940000 of size 33554432\n",
      "2020-06-09 20:11:06.090897: I C:\\users\\nwani\\_bazel_nwani\\mmtm6wb6\\execroot\\org_tensorflow\\tensorflow\\core\\common_runtime\\bfc_allocator.cc:665] Chunk at 0000000703940000 of size 33554432\n",
      "2020-06-09 20:11:06.091688: I C:\\users\\nwani\\_bazel_nwani\\mmtm6wb6\\execroot\\org_tensorflow\\tensorflow\\core\\common_runtime\\bfc_allocator.cc:665] Free  at 0000000705940000 of size 26214400\n",
      "2020-06-09 20:11:06.092037: I C:\\users\\nwani\\_bazel_nwani\\mmtm6wb6\\execroot\\org_tensorflow\\tensorflow\\core\\common_runtime\\bfc_allocator.cc:665] Chunk at 0000000707240000 of size 256\n",
      "2020-06-09 20:11:06.092359: I C:\\users\\nwani\\_bazel_nwani\\mmtm6wb6\\execroot\\org_tensorflow\\tensorflow\\core\\common_runtime\\bfc_allocator.cc:665] Chunk at 0000000707240100 of size 768\n",
      "2020-06-09 20:11:06.092697: I C:\\users\\nwani\\_bazel_nwani\\mmtm6wb6\\execroot\\org_tensorflow\\tensorflow\\core\\common_runtime\\bfc_allocator.cc:665] Chunk at 0000000707240400 of size 12800\n",
      "2020-06-09 20:11:06.092975: I C:\\users\\nwani\\_bazel_nwani\\mmtm6wb6\\execroot\\org_tensorflow\\tensorflow\\core\\common_runtime\\bfc_allocator.cc:665] Chunk at 0000000707243600 of size 256\n",
      "2020-06-09 20:11:06.093324: I C:\\users\\nwani\\_bazel_nwani\\mmtm6wb6\\execroot\\org_tensorflow\\tensorflow\\core\\common_runtime\\bfc_allocator.cc:665] Chunk at 0000000707243700 of size 819200\n",
      "2020-06-09 20:11:06.093624: I C:\\users\\nwani\\_bazel_nwani\\mmtm6wb6\\execroot\\org_tensorflow\\tensorflow\\core\\common_runtime\\bfc_allocator.cc:665] Chunk at 000000070730B700 of size 512\n",
      "2020-06-09 20:11:06.093905: I C:\\users\\nwani\\_bazel_nwani\\mmtm6wb6\\execroot\\org_tensorflow\\tensorflow\\core\\common_runtime\\bfc_allocator.cc:665] Chunk at 000000070730B900 of size 3276800\n",
      "2020-06-09 20:11:06.094288: I C:\\users\\nwani\\_bazel_nwani\\mmtm6wb6\\execroot\\org_tensorflow\\tensorflow\\core\\common_runtime\\bfc_allocator.cc:665] Chunk at 000000070762B900 of size 1024\n",
      "2020-06-09 20:11:06.094540: I C:\\users\\nwani\\_bazel_nwani\\mmtm6wb6\\execroot\\org_tensorflow\\tensorflow\\core\\common_runtime\\bfc_allocator.cc:665] Chunk at 000000070762BD00 of size 13107200\n",
      "2020-06-09 20:11:06.094777: I C:\\users\\nwani\\_bazel_nwani\\mmtm6wb6\\execroot\\org_tensorflow\\tensorflow\\core\\common_runtime\\bfc_allocator.cc:665] Chunk at 00000007082ABD00 of size 2048\n",
      "2020-06-09 20:11:06.095117: I C:\\users\\nwani\\_bazel_nwani\\mmtm6wb6\\execroot\\org_tensorflow\\tensorflow\\core\\common_runtime\\bfc_allocator.cc:665] Chunk at 00000007082AC500 of size 94720\n",
      "2020-06-09 20:11:06.095392: I C:\\users\\nwani\\_bazel_nwani\\mmtm6wb6\\execroot\\org_tensorflow\\tensorflow\\core\\common_runtime\\bfc_allocator.cc:665] Chunk at 00000007082C3700 of size 2048\n",
      "2020-06-09 20:11:06.095800: I C:\\users\\nwani\\_bazel_nwani\\mmtm6wb6\\execroot\\org_tensorflow\\tensorflow\\core\\common_runtime\\bfc_allocator.cc:665] Chunk at 00000007082C3F00 of size 378880\n",
      "2020-06-09 20:11:06.096109: I C:\\users\\nwani\\_bazel_nwani\\mmtm6wb6\\execroot\\org_tensorflow\\tensorflow\\core\\common_runtime\\bfc_allocator.cc:665] Chunk at 0000000708320700 of size 378880"
     ]
    }
   ],
   "source": [
    "import os\n",
    "os.environ['HDF5_DISABLE_VERSION_CHECK']='2'\n",
    "!conda activate gpu\n",
    "!python train.py --experiment_dir=experiments_finetune --experiment_id=0 --batch_size=16 --lr=0.001 --epoch=10 --sample_steps=1 --schedule=20 --L1_penalty=100 --Lconst_penalty=15 --freeze_encoder_decoder=1 --optimizer=sgd --fine_tune=67 --flip_labels=1"
   ]
  },
  {
   "cell_type": "code",
   "execution_count": 5,
   "metadata": {
    "ExecuteTime": {
     "end_time": "2020-06-09T12:41:11.320212Z",
     "start_time": "2020-06-09T12:41:11.292215Z"
    }
   },
   "outputs": [
    {
     "ename": "NameError",
     "evalue": "name 'experiments_finetune' is not defined",
     "output_type": "error",
     "traceback": [
      "\u001b[1;31m---------------------------------------------------------------------------\u001b[0m",
      "\u001b[1;31mNameError\u001b[0m                                 Traceback (most recent call last)",
      "\u001b[1;32m<ipython-input-5-33699ba5c86a>\u001b[0m in \u001b[0;36m<module>\u001b[1;34m\u001b[0m\n\u001b[0;32m      1\u001b[0m \u001b[1;31m################ train ###############\u001b[0m\u001b[1;33m\u001b[0m\u001b[1;33m\u001b[0m\u001b[1;33m\u001b[0m\u001b[0m\n\u001b[0;32m      2\u001b[0m \u001b[1;33m\u001b[0m\u001b[0m\n\u001b[1;32m----> 3\u001b[1;33m \u001b[0mexperiment_dir\u001b[0m\u001b[1;33m=\u001b[0m\u001b[0mexperiments_finetune\u001b[0m    \u001b[1;31m# experiment directory, data, samples,checkpoints,etc\u001b[0m\u001b[1;33m\u001b[0m\u001b[1;33m\u001b[0m\u001b[0m\n\u001b[0m\u001b[0;32m      4\u001b[0m \u001b[0mexperiment_id\u001b[0m\u001b[1;33m=\u001b[0m\u001b[1;36m0\u001b[0m         \u001b[1;31m# sequence id for the experiments you prepare to run\u001b[0m\u001b[1;33m\u001b[0m\u001b[1;33m\u001b[0m\u001b[0m\n\u001b[0;32m      5\u001b[0m \u001b[0mimage_size\u001b[0m\u001b[1;33m=\u001b[0m\u001b[0mCANVAS_SIZE\u001b[0m  \u001b[1;31m# size of your input and output image\u001b[0m\u001b[1;33m\u001b[0m\u001b[1;33m\u001b[0m\u001b[0m\n",
      "\u001b[1;31mNameError\u001b[0m: name 'experiments_finetune' is not defined"
     ]
    }
   ],
   "source": [
    "################ train ###############\n",
    "\n",
    "experiment_dir='experiments_finetune'    # experiment directory, data, samples,checkpoints,etc\n",
    "experiment_id=0         # sequence id for the experiments you prepare to run\n",
    "image_size=CANVAS_SIZE  # size of your input and output image\n",
    "L1_penalty=100      # weight for L1 loss\n",
    "Lconst_penalty=15   # weight for const loss\n",
    "Ltv_penalty=0.0     # weight for tv loss\n",
    "Lcategory_penalty=1.0  # weight for tv loss\n",
    "embedding_num=185   # number for distinct embeddings\n",
    "embedding_dim=EMBEDDING_DIM   # dimension for embedding\n",
    "epoch=10         # number of epoch\n",
    "batch_size=16    # number of examples in batch\n",
    "lr=0.001         # initial learning rate for adam\n",
    "schedule=20         # number of epochs to half learning rate\n",
    "resume=1            # number of epochs to half learning rate\n",
    "resume_pre_model=0  # resume from pre-training\n",
    "freeze_encoder_decoder=1      # freeze encoder/decoder weights during training\n",
    "optimizer=adam   # optimizer of the model\n",
    "fine_tune=67     # specific labels id to be fine tuned\n",
    "inst_norm=1      # use conditional instance normalization in your model\n",
    "sample_steps=20  # number of batches in between two samples are drawn from validation set\n",
    "checkpoint_steps=50  # number of batches in between two checkpoints\n",
    "validate_steps=1     # number of batches in between two validations\n",
    "validate_batches=20  # validation epochs\n",
    "flip_labels=1    # whether flip training data labels or not, in fine tuning"
   ]
  },
  {
   "cell_type": "code",
   "execution_count": 4,
   "metadata": {
    "ExecuteTime": {
     "end_time": "2020-06-09T12:41:02.858235Z",
     "start_time": "2020-06-09T12:41:00.456473Z"
    },
    "hide_input": false
   },
   "outputs": [
    {
     "ename": "NameError",
     "evalue": "name 'experiment_dir' is not defined",
     "output_type": "error",
     "traceback": [
      "\u001b[1;31m---------------------------------------------------------------------------\u001b[0m",
      "\u001b[1;31mNameError\u001b[0m                                 Traceback (most recent call last)",
      "\u001b[1;32m<ipython-input-4-e5a8e4e842ad>\u001b[0m in \u001b[0;36m<module>\u001b[1;34m\u001b[0m\n\u001b[0;32m     82\u001b[0m \u001b[1;33m\u001b[0m\u001b[0m\n\u001b[0;32m     83\u001b[0m \u001b[1;32mif\u001b[0m \u001b[0m__name__\u001b[0m \u001b[1;33m==\u001b[0m \u001b[1;34m'__main__'\u001b[0m\u001b[1;33m:\u001b[0m\u001b[1;33m\u001b[0m\u001b[1;33m\u001b[0m\u001b[0m\n\u001b[1;32m---> 84\u001b[1;33m     \u001b[0mtf\u001b[0m\u001b[1;33m.\u001b[0m\u001b[0mapp\u001b[0m\u001b[1;33m.\u001b[0m\u001b[0mrun\u001b[0m\u001b[1;33m(\u001b[0m\u001b[1;33m)\u001b[0m\u001b[1;33m\u001b[0m\u001b[1;33m\u001b[0m\u001b[0m\n\u001b[0m",
      "\u001b[1;32mC:\\ProgramData\\Anaconda3\\envs\\gpu\\lib\\site-packages\\tensorflow\\python\\platform\\app.py\u001b[0m in \u001b[0;36mrun\u001b[1;34m(main, argv)\u001b[0m\n\u001b[0;32m    124\u001b[0m   \u001b[1;31m# Call the main function, passing through any arguments\u001b[0m\u001b[1;33m\u001b[0m\u001b[1;33m\u001b[0m\u001b[1;33m\u001b[0m\u001b[0m\n\u001b[0;32m    125\u001b[0m   \u001b[1;31m# to the final program.\u001b[0m\u001b[1;33m\u001b[0m\u001b[1;33m\u001b[0m\u001b[1;33m\u001b[0m\u001b[0m\n\u001b[1;32m--> 126\u001b[1;33m   \u001b[0m_sys\u001b[0m\u001b[1;33m.\u001b[0m\u001b[0mexit\u001b[0m\u001b[1;33m(\u001b[0m\u001b[0mmain\u001b[0m\u001b[1;33m(\u001b[0m\u001b[0margv\u001b[0m\u001b[1;33m)\u001b[0m\u001b[1;33m)\u001b[0m\u001b[1;33m\u001b[0m\u001b[1;33m\u001b[0m\u001b[0m\n\u001b[0m\u001b[0;32m    127\u001b[0m \u001b[1;33m\u001b[0m\u001b[0m\n\u001b[0;32m    128\u001b[0m \u001b[1;33m\u001b[0m\u001b[0m\n",
      "\u001b[1;32m<ipython-input-4-e5a8e4e842ad>\u001b[0m in \u001b[0;36mmain\u001b[1;34m(_)\u001b[0m\n\u001b[0;32m     58\u001b[0m \u001b[1;33m\u001b[0m\u001b[0m\n\u001b[0;32m     59\u001b[0m     \u001b[1;32mwith\u001b[0m \u001b[0mtf\u001b[0m\u001b[1;33m.\u001b[0m\u001b[0mSession\u001b[0m\u001b[1;33m(\u001b[0m\u001b[0mconfig\u001b[0m\u001b[1;33m=\u001b[0m\u001b[0mconfig\u001b[0m\u001b[1;33m)\u001b[0m \u001b[1;32mas\u001b[0m \u001b[0msess\u001b[0m\u001b[1;33m:\u001b[0m\u001b[1;33m\u001b[0m\u001b[1;33m\u001b[0m\u001b[0m\n\u001b[1;32m---> 60\u001b[1;33m         model = UNet(experiment_dir=experiment_dir, batch_size=batch_size, experiment_id=experiment_id,\n\u001b[0m\u001b[0;32m     61\u001b[0m                      \u001b[0minput_width\u001b[0m\u001b[1;33m=\u001b[0m\u001b[0mimage_size\u001b[0m\u001b[1;33m,\u001b[0m \u001b[0moutput_width\u001b[0m\u001b[1;33m=\u001b[0m\u001b[0mimage_size\u001b[0m\u001b[1;33m,\u001b[0m \u001b[0membedding_num\u001b[0m\u001b[1;33m=\u001b[0m\u001b[0membedding_num\u001b[0m\u001b[1;33m,\u001b[0m\u001b[1;33m\u001b[0m\u001b[1;33m\u001b[0m\u001b[0m\n\u001b[0;32m     62\u001b[0m                      \u001b[0mvalidate_batches\u001b[0m\u001b[1;33m=\u001b[0m\u001b[0mvalidate_batches\u001b[0m\u001b[1;33m,\u001b[0m \u001b[0membedding_dim\u001b[0m\u001b[1;33m=\u001b[0m\u001b[0membedding_dim\u001b[0m\u001b[1;33m,\u001b[0m\u001b[1;33m\u001b[0m\u001b[1;33m\u001b[0m\u001b[0m\n",
      "\u001b[1;31mNameError\u001b[0m: name 'experiment_dir' is not defined"
     ]
    }
   ],
   "source": [
    "# -*- coding: utf-8 -*-\n",
    "from __future__ import absolute_import\n",
    "from __future__ import print_function\n",
    "\n",
    "# import argparse\n",
    "\n",
    "import tensorflow as tf\n",
    "\n",
    "from model.preprocessing_helper import CANVAS_SIZE, EMBEDDING_DIM\n",
    "from model.unet import UNet\n",
    "\n",
    "# parser = argparse.ArgumentParser(description='Train')\n",
    "# parser.add_argument('--experiment_dir', required=True,\n",
    "#                     help='experiment directory, data, samples,checkpoints,etc')\n",
    "# parser.add_argument('--experiment_id', type=int, default=0,\n",
    "#                     help='sequence id for the experiments you prepare to run')\n",
    "# parser.add_argument('--image_size', type=int, default=CANVAS_SIZE,\n",
    "#                     help=\"size of your input and output image\")\n",
    "# parser.add_argument('--L1_penalty', type=int, default=100, help='weight for L1 loss')\n",
    "# parser.add_argument('--Lconst_penalty', type=int, default=15, help='weight for const loss')\n",
    "# parser.add_argument('--Ltv_penalty', type=float, default=0.0, help='weight for tv loss')\n",
    "# parser.add_argument('--Lcategory_penalty', type=float, default=1.0,\n",
    "#                     help='c')\n",
    "# parser.add_argument('--embedding_num', type=int, default=185,\n",
    "#                     help=\"number for distinct embeddings\")\n",
    "# parser.add_argument('--embedding_dim', type=int, default=EMBEDDING_DIM, help=\"dimension for embedding\")\n",
    "# parser.add_argument('--epoch', type=int, default=100, help='number of epoch')\n",
    "# parser.add_argument('--batch_size', type=int, default=32, help='number of examples in batch')\n",
    "# parser.add_argument('--lr', type=float, default=0.001, help='initial learning rate for adam')\n",
    "# parser.add_argument('--schedule', type=int, default=10, help='number of epochs to half learning rate')\n",
    "# parser.add_argument('--resume', type=int, default=1, help='cc')\n",
    "\n",
    "# parser.add_argument('--resume_pre_model', type=int, default=0, help='resume from pre-training')\n",
    "# parser.add_argument('--optimizer', type=str, default=\"adam\",\n",
    "#                     help=\"optimizer of the model\")\n",
    "# parser.add_argument('--freeze_encoder_decoder', type=int, default=0,\n",
    "#                     help=\"freeze encoder/decoder weights during training\")\n",
    "# parser.add_argument('--fine_tune', type=str, default=None,\n",
    "#                     help='specific labels id to be fine tuned')\n",
    "# parser.add_argument('--inst_norm', type=int, default=1,\n",
    "#                     help='use conditional instance normalization in your model')\n",
    "# parser.add_argument('--sample_steps', type=int, default=20,\n",
    "#                     help='number of batches in between two samples are drawn from validation set')\n",
    "# parser.add_argument('--checkpoint_steps', type=int, default=50,\n",
    "#                     help='number of batches in between two checkpoints')\n",
    "# parser.add_argument('--validate_steps', type=int, default=1,\n",
    "#                     help='number of batches in between two validations')\n",
    "# parser.add_argument('--validate_batches', type=int, default=20,\n",
    "#                     help='validation epochs')\n",
    "# parser.add_argument('--flip_labels', type=int, default=None,\n",
    "#                     help='whether flip training data labels or not, in fine tuning')\n",
    "# args = parser.parse_args()\n",
    "\n",
    "\n",
    "def main(_):\n",
    "    config = tf.ConfigProto()\n",
    "    config.gpu_options.allow_growth = True\n",
    "\n",
    "    with tf.Session(config=config) as sess:\n",
    "        model = UNet(experiment_dir=experiment_dir, batch_size=batch_size, experiment_id=experiment_id,\n",
    "                     input_width=image_size, output_width=image_size, embedding_num=embedding_num,\n",
    "                     validate_batches=validate_batches, embedding_dim=embedding_dim,\n",
    "                     L1_penalty=L1_penalty, Lconst_penalty=Lconst_penalty,\n",
    "                     Ltv_penalty=Ltv_penalty, Lcategory_penalty=Lcategory_penalty)\n",
    "        model.register_session(sess)\n",
    "        if flip_labels:\n",
    "            model.build_model(is_training=True, inst_norm=inst_norm, no_target_source=True)\n",
    "        else:\n",
    "            model.build_model(is_training=True, inst_norm=inst_norm)\n",
    "        fine_tune_list = None\n",
    "        if fine_tune:\n",
    "            ids = fine_tune.split(\",\")\n",
    "            fine_tune_list = set([int(i) for i in ids])\n",
    "\n",
    "        model.train(lr=lr, epoch=epoch, resume=resume, resume_pre_model=resume_pre_model,\n",
    "                    schedule=schedule, freeze_encoder_decoder=freeze_encoder_decoder,\n",
    "                    fine_tune=fine_tune_list,\n",
    "                    sample_steps=sample_steps, checkpoint_steps=checkpoint_steps,\n",
    "                    validate_steps=validate_steps,\n",
    "                    flip_labels=flip_labels, optimizer=optimizer)\n",
    "\n",
    "\n",
    "if __name__ == '__main__':\n",
    "    tf.app.run()\n"
   ]
  },
  {
   "cell_type": "code",
   "execution_count": 2,
   "metadata": {
    "ExecuteTime": {
     "end_time": "2020-06-09T12:11:12.298211Z",
     "start_time": "2020-06-09T12:11:07.405176Z"
    }
   },
   "outputs": [
    {
     "name": "stdout",
     "output_type": "stream",
     "text": [
      "# conda environments:\n",
      "#\n",
      "base                     C:\\ProgramData\\Anaconda3\n",
      "gpu                   *  C:\\ProgramData\\Anaconda3\\envs\\gpu\n",
      "tf                       C:\\ProgramData\\Anaconda3\\envs\\tf\n",
      "flask                    C:\\Users\\lenovo\\.conda\\envs\\flask\n",
      "\n"
     ]
    }
   ],
   "source": [
    "\n",
    "!conda activate gpu\n",
    "!conda env list\n"
   ]
  },
  {
   "cell_type": "code",
   "execution_count": null,
   "metadata": {},
   "outputs": [],
   "source": []
  }
 ],
 "metadata": {
  "kernelspec": {
   "display_name": "gpu",
   "language": "python",
   "name": "gpu"
  },
  "language_info": {
   "codemirror_mode": {
    "name": "ipython",
    "version": 3
   },
   "file_extension": ".py",
   "mimetype": "text/x-python",
   "name": "python",
   "nbconvert_exporter": "python",
   "pygments_lexer": "ipython3",
   "version": "3.6.10"
  },
  "latex_envs": {
   "LaTeX_envs_menu_present": true,
   "autoclose": false,
   "autocomplete": true,
   "bibliofile": "biblio.bib",
   "cite_by": "apalike",
   "current_citInitial": 1,
   "eqLabelWithNumbers": true,
   "eqNumInitial": 1,
   "hotkeys": {
    "equation": "Ctrl-E",
    "itemize": "Ctrl-I"
   },
   "labels_anchors": false,
   "latex_user_defs": false,
   "report_style_numbering": false,
   "user_envs_cfg": false
  },
  "toc": {
   "base_numbering": 1,
   "nav_menu": {},
   "number_sections": true,
   "sideBar": true,
   "skip_h1_title": false,
   "title_cell": "Table of Contents",
   "title_sidebar": "Contents",
   "toc_cell": false,
   "toc_position": {},
   "toc_section_display": true,
   "toc_window_display": false
  },
  "varInspector": {
   "cols": {
    "lenName": 16,
    "lenType": 16,
    "lenVar": 40
   },
   "kernels_config": {
    "python": {
     "delete_cmd_postfix": "",
     "delete_cmd_prefix": "del ",
     "library": "var_list.py",
     "varRefreshCmd": "print(var_dic_list())"
    },
    "r": {
     "delete_cmd_postfix": ") ",
     "delete_cmd_prefix": "rm(",
     "library": "var_list.r",
     "varRefreshCmd": "cat(var_dic_list()) "
    }
   },
   "types_to_exclude": [
    "module",
    "function",
    "builtin_function_or_method",
    "instance",
    "_Feature"
   ],
   "window_display": false
  }
 },
 "nbformat": 4,
 "nbformat_minor": 4
}
