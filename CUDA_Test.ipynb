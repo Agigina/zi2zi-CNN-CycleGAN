{
 "cells": [
  {
   "cell_type": "markdown",
   "metadata": {},
   "source": [
    "# Test GPU+CUDA"
   ]
  },
  {
   "cell_type": "code",
   "execution_count": 1,
   "metadata": {
    "ExecuteTime": {
     "end_time": "2020-06-09T15:07:07.620728Z",
     "start_time": "2020-06-09T15:07:03.429727Z"
    },
    "jupyter": {
     "outputs_hidden": true
    }
   },
   "outputs": [
    {
     "data": {
      "text/plain": [
       "'1.8.0'"
      ]
     },
     "execution_count": 1,
     "metadata": {},
     "output_type": "execute_result"
    }
   ],
   "source": [
    "import tensorflow as tf\n",
    "tf.__version__"
   ]
  },
  {
   "cell_type": "code",
   "execution_count": 2,
   "metadata": {
    "ExecuteTime": {
     "end_time": "2020-06-09T15:07:09.312731Z",
     "start_time": "2020-06-09T15:07:07.624731Z"
    }
   },
   "outputs": [
    {
     "name": "stdout",
     "output_type": "stream",
     "text": [
      "[[22. 28.]\n",
      " [49. 64.]]\n"
     ]
    }
   ],
   "source": [
    "a = tf.constant([1.0, 2.0, 3.0 ,4.0, 5.0, 6.0], shape=[2, 3], name='a')\n",
    "b = tf.constant([1.0, 2.0, 3.0 ,4.0, 5.0, 6.0], shape=[3, 2], name='b')\n",
    "c = tf.matmul(a, b)\n",
    "\n",
    "sess = tf.Session(config=tf.ConfigProto(log_device_placement=True))\n",
    "\n",
    "print(sess.run(c))"
   ]
  },
  {
   "cell_type": "code",
   "execution_count": 3,
   "metadata": {
    "ExecuteTime": {
     "end_time": "2020-06-09T15:07:09.380728Z",
     "start_time": "2020-06-09T15:07:09.317733Z"
    }
   },
   "outputs": [
    {
     "name": "stdout",
     "output_type": "stream",
     "text": [
      "[name: \"/device:CPU:0\"\n",
      "device_type: \"CPU\"\n",
      "memory_limit: 268435456\n",
      "locality {\n",
      "}\n",
      "incarnation: 239364897179585874\n",
      ", name: \"/device:GPU:0\"\n",
      "device_type: \"GPU\"\n",
      "memory_limit: 1479989657\n",
      "locality {\n",
      "  bus_id: 1\n",
      "  links {\n",
      "  }\n",
      "}\n",
      "incarnation: 17429861581388236713\n",
      "physical_device_desc: \"device: 0, name: GeForce 940MX, pci bus id: 0000:01:00.0, compute capability: 5.0\"\n",
      "]\n"
     ]
    }
   ],
   "source": [
    "from tensorflow.python.client import device_lib\n",
    "print(device_lib.list_local_devices())\n"
   ]
  },
  {
   "attachments": {},
   "cell_type": "markdown",
   "metadata": {},
   "source": [
    "# Preprocess\n",
    "\n",
    "+ 手写字体：\n",
    "    1. 上传自己的手写图片灰阶照片 \n",
    "    <p align=\"center\">\n",
    "      <img src=\"handwriting_preparation\\images\\yun.jpg\" alt=\"handwritten-pic\",  width=\"600\"/>\n",
    "    </p>\n",
    "    \n",
    "    2. 使用Tesseract+jTessBoxEditor获取每个charactor的内容与坐标box坐标信息\n",
    "    \n",
    "    <p align=\"center\">\n",
    "      <img src=\"README.asserts/char_box.png\" alt=\"char-box\",  width=\"400\"/>\n",
    "    </p>\n",
    "    \n",
    "    每个字对应的box信息：\n",
    "    <p align=\"center\">\n",
    "      <img src=\"README.asserts/box.png\" alt=\"box-info\",  width=\"400\"/>\n",
    "    </p>\n",
    "+ 书法字体（target）：\n",
    "    \n",
    "    1. 由于名家书法作品图片不够齐全，所以使用ttf格式的计算机编码字体生成图像\n",
    "    2. 对比之后，选用“迷你简黄草”字体\n",
    "    <p align=\"center\">\n",
    "      <img src=\"README.asserts/font_viewer.png\" alt=\"char-box\",  width=\"400\"/>\n",
    "    </p>"
   ]
  },
  {
   "cell_type": "code",
   "execution_count": 4,
   "metadata": {
    "ExecuteTime": {
     "end_time": "2020-06-09T15:07:12.584724Z",
     "start_time": "2020-06-09T15:07:09.383727Z"
    }
   },
   "outputs": [
    {
     "name": "stdout",
     "output_type": "stream",
     "text": [
      "['云', '551', '2363', '724', '2516', '0']\n",
      "['想', '782', '2369', '1002', '2541', '0']\n",
      "['衣', '1059', '2355', '1263', '2549', '0']\n",
      "['裳', '1296', '2354', '1482', '2568', '0']\n",
      "['花', '1539', '2367', '1718', '2561', '0']\n",
      "['想', '1775', '2366', '2012', '2563', '0']\n",
      "['容', '2053', '2370', '2281', '2570', '0']\n",
      "['，', '2246', '2367', '2284', '2396', '0']\n",
      "['春', '2368', '2362', '2572', '2575', '0']\n",
      "['风', '2616', '2375', '2777', '2561', '0']\n",
      "['拂', '2821', '2345', '3044', '2571', '0']\n",
      "['槛', '3069', '2377', '3299', '2566', '0']\n",
      "['露', '3351', '2371', '3544', '2564', '0']\n",
      "['华', '3552', '2347', '3714', '2560', '0']\n",
      "['浓', '3752', '2397', '3960', '2542', '0']\n",
      "['。', '3921', '2367', '3956', '2397', '0']\n",
      "['若', '457', '2073', '624', '2271', '0']\n",
      "['非', '671', '2056', '838', '2260', '0']\n",
      "['群', '862', '2039', '1059', '2273', '0']\n",
      "['玉', '1080', '2119', '1249', '2237', '0']\n",
      "['山', '1276', '2119', '1403', '2247', '0']\n",
      "['头', '1463', '2097', '1613', '2258', '0']\n",
      "['见', '1675', '2106', '1852', '2265', '0']\n",
      "['，', '1894', '2114', '1915', '2152', '0']\n",
      "['会', '1983', '2115', '2173', '2255', '0']\n",
      "['向', '2202', '2094', '2362', '2269', '0']\n",
      "['瑶', '2409', '2104', '2598', '2285', '0']\n",
      "['台', '2664', '2118', '2781', '2248', '0']\n",
      "['月', '2881', '2065', '2987', '2287', '0']\n",
      "['下', '3064', '2123', '3187', '2260', '0']\n",
      "['逢', '3234', '2129', '3458', '2302', '0']\n",
      "['。', '3478', '2136', '3507', '2165', '0']\n",
      "['一', '462', '1870', '567', '1906', '0']\n",
      "['秋', '605', '1814', '833', '1997', '0']\n",
      "['红', '836', '1843', '1041', '1974', '0']\n",
      "['艳', '1061', '1799', '1284', '2015', '0']\n",
      "['露', '1297', '1829', '1489', '2015', '0']\n",
      "['凝', '1495', '1828', '1744', '2004', '0']\n",
      "['香', '1736', '1834', '1905', '2009', '0']\n",
      "['，', '1925', '1849', '1945', '1873', '0']\n",
      "['云', '2043', '1855', '2174', '1989', '0']\n",
      "['雨', '2192', '1836', '2378', '1996', '0']\n",
      "['巫', '2419', '1838', '2615', '1997', '0']\n",
      "['山', '2651', '1843', '2808', '1993', '0']\n",
      "['枉', '2848', '1842', '3069', '1999', '0']\n",
      "['断', '3099', '1804', '3312', '2025', '0']\n",
      "['肠', '3343', '1856', '3539', '2022', '0']\n",
      "['。', '3562', '1885', '3590', '1913', '0']\n",
      "['借', '417', '1537', '604', '1733', '0']\n",
      "['问', '674', '1537', '818', '1706', '0']\n",
      "['汉', '867', '1566', '1083', '1685', '0']\n",
      "['宫', '1120', '1559', '1278', '1750', '0']\n",
      "['谁', '1341', '1538', '1553', '1726', '0']\n",
      "['得', '1580', '1529', '1773', '1752', '0']\n",
      "['似', '1812', '1575', '2015', '1698', '0']\n",
      "['？', '2056', '1581', '2114', '1689', '0']\n",
      "['可', '2186', '1538', '2339', '1728', '0']\n",
      "['怜', '2383', '1566', '2589', '1741', '0']\n",
      "['飞', '2614', '1563', '2745', '1731', '0']\n",
      "['燕', '2770', '1553', '2974', '1766', '0']\n",
      "['倚', '2995', '1520', '3220', '1777', '0']\n",
      "['新', '3239', '1506', '3434', '1771', '0']\n",
      "['妆', '3459', '1560', '3729', '1766', '0']\n",
      "['。', '3748', '1589', '3780', '1618', '0']\n",
      "['名', '436', '1254', '654', '1452', '0']\n",
      "['花', '680', '1277', '866', '1450', '0']\n",
      "['倾', '897', '1267', '1136', '1460', '0']\n",
      "['国', '1167', '1281', '1323', '1477', '0']\n",
      "['两', '1370', '1287', '1564', '1443', '0']\n",
      "['相', '1593', '1287', '1813', '1474', '0']\n",
      "['欢', '1850', '1294', '2088', '1489', '0']\n",
      "['，', '2139', '1290', '2180', '1338', '0']\n",
      "['长', '2210', '1280', '2375', '1477', '0']\n",
      "['得', '2418', '1245', '2620', '1512', '0']\n",
      "['君', '2636', '1301', '2830', '1481', '0']\n",
      "['王', '2871', '1323', '2993', '1466', '0']\n",
      "['带', '2991', '1226', '3179', '1513', '0']\n",
      "['笑', '3221', '1281', '3412', '1505', '0']\n",
      "['看', '3432', '1281', '3594', '1499', '0']\n",
      "['。', '3642', '1299', '3674', '1330', '0']\n",
      "['解', '435', '856', '676', '1140', '0']\n",
      "['释', '723', '890', '973', '1140', '0']\n",
      "['春', '963', '934', '1199', '1188', '0']\n",
      "['风', '1201', '937', '1397', '1166', '0']\n",
      "['无', '1377', '999', '1553', '1166', '0']\n",
      "['限', '1589', '968', '1804', '1169', '0']\n",
      "['恨', '1836', '974', '2099', '1204', '0']\n",
      "['，', '2112', '977', '2133', '1014', '0']\n",
      "['沉', '2182', '979', '2448', '1173', '0']\n",
      "['香', '2460', '927', '2672', '1217', '0']\n",
      "['亭', '2677', '927', '2894', '1217', '0']\n",
      "['北', '2908', '993', '3076', '1167', '0']\n",
      "['倚', '3101', '942', '3311', '1234', '0']\n",
      "['阑', '3342', '1006', '3507', '1194', '0']\n",
      "['干', '3533', '965', '3676', '1194', '0']\n",
      "['。', '3689', '1016', '3727', '1051', '0']\n",
      "img data/paired_images_finetune\\136_0000.jpg 136\n",
      "img data/paired_images_finetune\\136_0001.jpg 136\n",
      "img data/paired_images_finetune\\136_0002.jpg 136\n",
      "img data/paired_images_finetune\\136_0003.jpg 136\n",
      "img data/paired_images_finetune\\136_0004.jpg 136\n",
      "img data/paired_images_finetune\\136_0005.jpg 136\n",
      "img data/paired_images_finetune\\136_0006.jpg 136\n",
      "img data/paired_images_finetune\\136_0007.jpg 136\n",
      "img data/paired_images_finetune\\136_0008.jpg 136\n",
      "img data/paired_images_finetune\\136_0009.jpg 136\n",
      "img data/paired_images_finetune\\136_0010.jpg 136\n",
      "img data/paired_images_finetune\\136_0011.jpg 136\n",
      "img data/paired_images_finetune\\136_0012.jpg 136\n",
      "img data/paired_images_finetune\\136_0013.jpg 136\n",
      "img data/paired_images_finetune\\136_0014.jpg 136\n",
      "img data/paired_images_finetune\\136_0015.jpg 136\n",
      "img data/paired_images_finetune\\136_0016.jpg 136\n",
      "img data/paired_images_finetune\\136_0017.jpg 136\n",
      "img data/paired_images_finetune\\136_0018.jpg 136\n",
      "img data/paired_images_finetune\\136_0019.jpg 136\n",
      "img data/paired_images_finetune\\136_0020.jpg 136\n",
      "img data/paired_images_finetune\\136_0021.jpg 136\n",
      "img data/paired_images_finetune\\136_0022.jpg 136\n",
      "img data/paired_images_finetune\\136_0023.jpg 136\n",
      "img data/paired_images_finetune\\136_0024.jpg 136\n",
      "img data/paired_images_finetune\\136_0025.jpg 136\n",
      "img data/paired_images_finetune\\136_0026.jpg 136\n",
      "img data/paired_images_finetune\\136_0027.jpg 136\n",
      "img data/paired_images_finetune\\136_0028.jpg 136\n",
      "img data/paired_images_finetune\\136_0029.jpg 136\n",
      "img data/paired_images_finetune\\136_0030.jpg 136\n",
      "img data/paired_images_finetune\\136_0031.jpg 136\n",
      "img data/paired_images_finetune\\136_0032.jpg 136\n",
      "img data/paired_images_finetune\\136_0033.jpg 136\n",
      "img data/paired_images_finetune\\136_0034.jpg 136\n",
      "img data/paired_images_finetune\\136_0035.jpg 136\n",
      "img data/paired_images_finetune\\136_0036.jpg 136\n",
      "img data/paired_images_finetune\\136_0037.jpg 136\n",
      "img data/paired_images_finetune\\136_0038.jpg 136\n",
      "img data/paired_images_finetune\\136_0039.jpg 136\n",
      "img data/paired_images_finetune\\136_0040.jpg 136\n",
      "img data/paired_images_finetune\\136_0041.jpg 136\n",
      "img data/paired_images_finetune\\136_0042.jpg 136\n",
      "img data/paired_images_finetune\\136_0043.jpg 136\n",
      "img data/paired_images_finetune\\136_0044.jpg 136\n",
      "img data/paired_images_finetune\\136_0045.jpg 136\n",
      "img data/paired_images_finetune\\136_0046.jpg 136\n",
      "img data/paired_images_finetune\\136_0047.jpg 136\n",
      "img data/paired_images_finetune\\136_0048.jpg 136\n",
      "img data/paired_images_finetune\\136_0049.jpg 136\n",
      "img data/paired_images_finetune\\136_0050.jpg 136\n",
      "img data/paired_images_finetune\\136_0051.jpg 136\n",
      "img data/paired_images_finetune\\136_0052.jpg 136\n"
     ]
    }
   ],
   "source": [
    "!python font2img_finetune.py"
   ]
  },
  {
   "cell_type": "markdown",
   "metadata": {},
   "source": [
    "# Train"
   ]
  },
  {
   "cell_type": "code",
   "execution_count": 5,
   "metadata": {
    "ExecuteTime": {
     "end_time": "2020-06-09T15:07:12.694730Z",
     "start_time": "2020-06-09T15:07:12.591727Z"
    },
    "scrolled": true
   },
   "outputs": [
    {
     "name": "stdout",
     "output_type": "stream",
     "text": [
      "img data/paired_images_finetune\\136_0053.jpg 136\n",
      "img data/paired_images_finetune\\136_0054.jpg 136\n",
      "img data/paired_images_finetune\\136_0055.jpg 136\n",
      "img data/paired_images_finetune\\136_0056.jpg 136\n",
      "img data/paired_images_finetune\\136_0057.jpg 136\n",
      "img data/paired_images_finetune\\136_0058.jpg 136\n",
      "img data/paired_images_finetune\\136_0059.jpg 136\n",
      "img data/paired_images_finetune\\136_0060.jpg 136\n",
      "img data/paired_images_finetune\\136_0061.jpg 136\n",
      "img data/paired_images_finetune\\136_0062.jpg 136\n",
      "img data/paired_images_finetune\\136_0063.jpg 136\n",
      "img data/paired_images_finetune\\136_0064.jpg 136\n",
      "img data/paired_images_finetune\\136_0065.jpg 136\n",
      "img data/paired_images_finetune\\136_0066.jpg 136\n",
      "img data/paired_images_finetune\\136_0067.jpg 136\n",
      "img data/paired_images_finetune\\136_0068.jpg 136\n",
      "img data/paired_images_finetune\\136_0069.jpg 136\n",
      "img data/paired_images_finetune\\136_0070.jpg 136\n",
      "img data/paired_images_finetune\\136_0071.jpg 136\n",
      "img data/paired_images_finetune\\136_0072.jpg 136\n",
      "img data/paired_images_finetune\\136_0073.jpg 136\n",
      "img data/paired_images_finetune\\136_0074.jpg 136\n",
      "img data/paired_images_finetune\\136_0075.jpg 136\n",
      "img data/paired_images_finetune\\136_0076.jpg 136\n",
      "img data/paired_images_finetune\\136_0077.jpg 136\n",
      "img data/paired_images_finetune\\136_0078.jpg 136\n",
      "img data/paired_images_finetune\\136_0079.jpg 136\n",
      "img data/paired_images_finetune\\136_0080.jpg 136\n",
      "img data/paired_images_finetune\\136_0081.jpg 136\n",
      "img data/paired_images_finetune\\136_0082.jpg 136\n",
      "img data/paired_images_finetune\\136_0083.jpg 136\n",
      "img data/paired_images_finetune\\136_0084.jpg 136\n",
      "img data/paired_images_finetune\\136_0085.jpg 136\n",
      "img data/paired_images_finetune\\136_0086.jpg 136\n",
      "img data/paired_images_finetune\\136_0087.jpg 136\n",
      "img data/paired_images_finetune\\136_0088.jpg 136\n",
      "img data/paired_images_finetune\\136_0089.jpg 136\n",
      "img data/paired_images_finetune\\136_0090.jpg 136\n",
      "img data/paired_images_finetune\\136_0091.jpg 136\n",
      "img data/paired_images_finetune\\136_0092.jpg 136\n",
      "img data/paired_images_finetune\\136_0093.jpg 136\n",
      "img data/paired_images_finetune\\136_0094.jpg 136\n",
      "img data/paired_images_finetune\\136_0095.jpg 136\n"
     ]
    }
   ],
   "source": [
    "# -*- coding: utf-8 -*-\n",
    "from __future__ import absolute_import\n",
    "from __future__ import print_function\n",
    "from model.preprocessing_helper import CANVAS_SIZE, EMBEDDING_DIM\n",
    "from model.unet import UNet\n",
    "\n",
    "\n",
    "config = tf.ConfigProto()\n",
    "config.gpu_options.allow_growth = True"
   ]
  },
  {
   "cell_type": "code",
   "execution_count": 6,
   "metadata": {
    "ExecuteTime": {
     "end_time": "2020-06-09T15:07:12.710727Z",
     "start_time": "2020-06-09T15:07:12.697727Z"
    },
    "scrolled": true
   },
   "outputs": [],
   "source": [
    "################ train ###############\n",
    "\n",
    "experiment_dir='experiments_finetune'    # experiment directory, data, samples,checkpoints,etc\n",
    "experiment_id=0         # sequence id for the experiments you prepare to run\n",
    "image_size=CANVAS_SIZE  # size of your input and output image\n",
    "L1_penalty=100      # weight for L1 loss\n",
    "Lconst_penalty=15   # weight for const loss\n",
    "Ltv_penalty=0.0     # weight for tv loss\n",
    "Lcategory_penalty=1.0  # weight for tv loss\n",
    "embedding_num=185   # number for distinct embeddings\n",
    "embedding_dim=EMBEDDING_DIM   # dimension for embedding\n",
    "epoch=10         # number of epoch\n",
    "batch_size=16    # number of examples in batch\n",
    "lr=0.001         # initial learning rate for adam\n",
    "schedule=20         # number of epochs to half learning rate\n",
    "resume=1            # number of epochs to half learning rate\n",
    "resume_pre_model=0  # resume from pre-training\n",
    "freeze_encoder_decoder=1      # freeze encoder/decoder weights during training\n",
    "optimizer='adam'   # optimizer of the model\n",
    "fine_tune='67'     # specific labels id to be fine tuned\n",
    "inst_norm=1      # use conditional instance normalization in your model\n",
    "sample_steps=20  # number of batches in between two samples are drawn from validation set\n",
    "checkpoint_steps=50  # number of batches in between two checkpoints\n",
    "validate_steps=1     # number of batches in between two validations\n",
    "validate_batches=20  # validation epochs\n",
    "flip_labels=1    # whether flip training data labels or not, in fine tuning"
   ]
  },
  {
   "cell_type": "code",
   "execution_count": 7,
   "metadata": {
    "ExecuteTime": {
     "end_time": "2020-06-09T15:13:22.228787Z",
     "start_time": "2020-06-09T15:07:12.714726Z"
    },
    "hide_input": false
   },
   "outputs": [
    {
     "name": "stdout",
     "output_type": "stream",
     "text": [
      "freeze encoder/decoder weights\n"
     ]
    },
    {
     "ename": "ResourceExhaustedError",
     "evalue": "OOM when allocating tensor with shape[524288,185] and type float on /job:localhost/replica:0/task:0/device:GPU:0 by allocator GPU_0_bfc\n\t [[Node: discriminator/d_fc2/W/Initializer/random_normal/RandomStandardNormal = RandomStandardNormal[T=DT_INT32, _class=[\"loc:@discriminator/d_fc2/W/Assign\"], dtype=DT_FLOAT, seed=0, seed2=0, _device=\"/job:localhost/replica:0/task:0/device:GPU:0\"](discriminator/d_fc2/W/Initializer/random_normal/shape)]]\nHint: If you want to see a list of allocated tensors when OOM happens, add report_tensor_allocations_upon_oom to RunOptions for current allocation info.\n\n\nCaused by op 'discriminator/d_fc2/W/Initializer/random_normal/RandomStandardNormal', defined at:\n  File \"C:\\ProgramData\\Anaconda3\\envs\\gpu\\lib\\runpy.py\", line 193, in _run_module_as_main\n    \"__main__\", mod_spec)\n  File \"C:\\ProgramData\\Anaconda3\\envs\\gpu\\lib\\runpy.py\", line 85, in _run_code\n    exec(code, run_globals)\n  File \"C:\\ProgramData\\Anaconda3\\envs\\gpu\\lib\\site-packages\\ipykernel_launcher.py\", line 16, in <module>\n    app.launch_new_instance()\n  File \"C:\\ProgramData\\Anaconda3\\envs\\gpu\\lib\\site-packages\\traitlets\\config\\application.py\", line 664, in launch_instance\n    app.start()\n  File \"C:\\ProgramData\\Anaconda3\\envs\\gpu\\lib\\site-packages\\ipykernel\\kernelapp.py\", line 597, in start\n    self.io_loop.start()\n  File \"C:\\ProgramData\\Anaconda3\\envs\\gpu\\lib\\site-packages\\tornado\\platform\\asyncio.py\", line 149, in start\n    self.asyncio_loop.run_forever()\n  File \"C:\\ProgramData\\Anaconda3\\envs\\gpu\\lib\\asyncio\\base_events.py\", line 442, in run_forever\n    self._run_once()\n  File \"C:\\ProgramData\\Anaconda3\\envs\\gpu\\lib\\asyncio\\base_events.py\", line 1462, in _run_once\n    handle._run()\n  File \"C:\\ProgramData\\Anaconda3\\envs\\gpu\\lib\\asyncio\\events.py\", line 145, in _run\n    self._callback(*self._args)\n  File \"C:\\ProgramData\\Anaconda3\\envs\\gpu\\lib\\site-packages\\tornado\\ioloop.py\", line 690, in <lambda>\n    lambda f: self._run_callback(functools.partial(callback, future))\n  File \"C:\\ProgramData\\Anaconda3\\envs\\gpu\\lib\\site-packages\\tornado\\ioloop.py\", line 743, in _run_callback\n    ret = callback()\n  File \"C:\\ProgramData\\Anaconda3\\envs\\gpu\\lib\\site-packages\\tornado\\gen.py\", line 787, in inner\n    self.run()\n  File \"C:\\ProgramData\\Anaconda3\\envs\\gpu\\lib\\site-packages\\tornado\\gen.py\", line 748, in run\n    yielded = self.gen.send(value)\n  File \"C:\\ProgramData\\Anaconda3\\envs\\gpu\\lib\\site-packages\\ipykernel\\kernelbase.py\", line 381, in dispatch_queue\n    yield self.process_one()\n  File \"C:\\ProgramData\\Anaconda3\\envs\\gpu\\lib\\site-packages\\tornado\\gen.py\", line 225, in wrapper\n    runner = Runner(result, future, yielded)\n  File \"C:\\ProgramData\\Anaconda3\\envs\\gpu\\lib\\site-packages\\tornado\\gen.py\", line 714, in __init__\n    self.run()\n  File \"C:\\ProgramData\\Anaconda3\\envs\\gpu\\lib\\site-packages\\tornado\\gen.py\", line 748, in run\n    yielded = self.gen.send(value)\n  File \"C:\\ProgramData\\Anaconda3\\envs\\gpu\\lib\\site-packages\\ipykernel\\kernelbase.py\", line 365, in process_one\n    yield gen.maybe_future(dispatch(*args))\n  File \"C:\\ProgramData\\Anaconda3\\envs\\gpu\\lib\\site-packages\\tornado\\gen.py\", line 209, in wrapper\n    yielded = next(result)\n  File \"C:\\ProgramData\\Anaconda3\\envs\\gpu\\lib\\site-packages\\ipykernel\\kernelbase.py\", line 268, in dispatch_shell\n    yield gen.maybe_future(handler(stream, idents, msg))\n  File \"C:\\ProgramData\\Anaconda3\\envs\\gpu\\lib\\site-packages\\tornado\\gen.py\", line 209, in wrapper\n    yielded = next(result)\n  File \"C:\\ProgramData\\Anaconda3\\envs\\gpu\\lib\\site-packages\\ipykernel\\kernelbase.py\", line 545, in execute_request\n    user_expressions, allow_stdin,\n  File \"C:\\ProgramData\\Anaconda3\\envs\\gpu\\lib\\site-packages\\tornado\\gen.py\", line 209, in wrapper\n    yielded = next(result)\n  File \"C:\\ProgramData\\Anaconda3\\envs\\gpu\\lib\\site-packages\\ipykernel\\ipkernel.py\", line 300, in do_execute\n    res = shell.run_cell(code, store_history=store_history, silent=silent)\n  File \"C:\\ProgramData\\Anaconda3\\envs\\gpu\\lib\\site-packages\\ipykernel\\zmqshell.py\", line 536, in run_cell\n    return super(ZMQInteractiveShell, self).run_cell(*args, **kwargs)\n  File \"C:\\ProgramData\\Anaconda3\\envs\\gpu\\lib\\site-packages\\IPython\\core\\interactiveshell.py\", line 2858, in run_cell\n    raw_cell, store_history, silent, shell_futures)\n  File \"C:\\ProgramData\\Anaconda3\\envs\\gpu\\lib\\site-packages\\IPython\\core\\interactiveshell.py\", line 2886, in _run_cell\n    return runner(coro)\n  File \"C:\\ProgramData\\Anaconda3\\envs\\gpu\\lib\\site-packages\\IPython\\core\\async_helpers.py\", line 68, in _pseudo_sync_runner\n    coro.send(None)\n  File \"C:\\ProgramData\\Anaconda3\\envs\\gpu\\lib\\site-packages\\IPython\\core\\interactiveshell.py\", line 3063, in run_cell_async\n    interactivity=interactivity, compiler=compiler, result=result)\n  File \"C:\\ProgramData\\Anaconda3\\envs\\gpu\\lib\\site-packages\\IPython\\core\\interactiveshell.py\", line 3254, in run_ast_nodes\n    if (await self.run_code(code, result,  async_=asy)):\n  File \"C:\\ProgramData\\Anaconda3\\envs\\gpu\\lib\\site-packages\\IPython\\core\\interactiveshell.py\", line 3331, in run_code\n    exec(code_obj, self.user_global_ns, self.user_ns)\n  File \"<ipython-input-7-723acb918d6f>\", line 9, in <module>\n    model.build_model(is_training=True, inst_norm=inst_norm, no_target_source=True)\n  File \"D:\\OneDrive - stu.ecnu.edu.cn\\DaSE\\CV计算机视觉\\zi2zi-CNN-CycleGAN\\model\\unet.py\", line 191, in build_model\n    real_D, real_D_logits, real_category_logits = self.discriminator(real_AB, is_training=is_training, reuse=False)\n  File \"D:\\OneDrive - stu.ecnu.edu.cn\\DaSE\\CV计算机视觉\\zi2zi-CNN-CycleGAN\\model\\unet.py\", line 161, in discriminator\n    fc2 = fc(tf.reshape(h3, [-1, np.prod(h3_shapes[1:])]), self.embedding_num, scope=\"d_fc2\")\n  File \"D:\\OneDrive - stu.ecnu.edu.cn\\DaSE\\CV计算机视觉\\zi2zi-CNN-CycleGAN\\model\\ops.py\", line 51, in fc\n    tf.random_normal_initializer(stddev=stddev))\n  File \"C:\\ProgramData\\Anaconda3\\envs\\gpu\\lib\\site-packages\\tensorflow\\python\\ops\\variable_scope.py\", line 1317, in get_variable\n    constraint=constraint)\n  File \"C:\\ProgramData\\Anaconda3\\envs\\gpu\\lib\\site-packages\\tensorflow\\python\\ops\\variable_scope.py\", line 1079, in get_variable\n    constraint=constraint)\n  File \"C:\\ProgramData\\Anaconda3\\envs\\gpu\\lib\\site-packages\\tensorflow\\python\\ops\\variable_scope.py\", line 425, in get_variable\n    constraint=constraint)\n  File \"C:\\ProgramData\\Anaconda3\\envs\\gpu\\lib\\site-packages\\tensorflow\\python\\ops\\variable_scope.py\", line 394, in _true_getter\n    use_resource=use_resource, constraint=constraint)\n  File \"C:\\ProgramData\\Anaconda3\\envs\\gpu\\lib\\site-packages\\tensorflow\\python\\ops\\variable_scope.py\", line 786, in _get_single_variable\n    use_resource=use_resource)\n  File \"C:\\ProgramData\\Anaconda3\\envs\\gpu\\lib\\site-packages\\tensorflow\\python\\ops\\variable_scope.py\", line 2220, in variable\n    use_resource=use_resource)\n  File \"C:\\ProgramData\\Anaconda3\\envs\\gpu\\lib\\site-packages\\tensorflow\\python\\ops\\variable_scope.py\", line 2210, in <lambda>\n    previous_getter = lambda **kwargs: default_variable_creator(None, **kwargs)\n  File \"C:\\ProgramData\\Anaconda3\\envs\\gpu\\lib\\site-packages\\tensorflow\\python\\ops\\variable_scope.py\", line 2193, in default_variable_creator\n    constraint=constraint)\n  File \"C:\\ProgramData\\Anaconda3\\envs\\gpu\\lib\\site-packages\\tensorflow\\python\\ops\\variables.py\", line 235, in __init__\n    constraint=constraint)\n  File \"C:\\ProgramData\\Anaconda3\\envs\\gpu\\lib\\site-packages\\tensorflow\\python\\ops\\variables.py\", line 343, in _init_from_args\n    initial_value(), name=\"initial_value\", dtype=dtype)\n  File \"C:\\ProgramData\\Anaconda3\\envs\\gpu\\lib\\site-packages\\tensorflow\\python\\ops\\variable_scope.py\", line 770, in <lambda>\n    shape.as_list(), dtype=dtype, partition_info=partition_info)\n  File \"C:\\ProgramData\\Anaconda3\\envs\\gpu\\lib\\site-packages\\tensorflow\\python\\ops\\init_ops.py\", line 290, in __call__\n    shape, self.mean, self.stddev, dtype, seed=self.seed)\n  File \"C:\\ProgramData\\Anaconda3\\envs\\gpu\\lib\\site-packages\\tensorflow\\python\\ops\\random_ops.py\", line 77, in random_normal\n    shape_tensor, dtype, seed=seed1, seed2=seed2)\n  File \"C:\\ProgramData\\Anaconda3\\envs\\gpu\\lib\\site-packages\\tensorflow\\python\\ops\\gen_random_ops.py\", line 589, in random_standard_normal\n    seed2=seed2, name=name)\n  File \"C:\\ProgramData\\Anaconda3\\envs\\gpu\\lib\\site-packages\\tensorflow\\python\\framework\\op_def_library.py\", line 787, in _apply_op_helper\n    op_def=op_def)\n  File \"C:\\ProgramData\\Anaconda3\\envs\\gpu\\lib\\site-packages\\tensorflow\\python\\framework\\ops.py\", line 3392, in create_op\n    op_def=op_def)\n  File \"C:\\ProgramData\\Anaconda3\\envs\\gpu\\lib\\site-packages\\tensorflow\\python\\framework\\ops.py\", line 1718, in __init__\n    self._traceback = self._graph._extract_stack()  # pylint: disable=protected-access\n\nResourceExhaustedError (see above for traceback): OOM when allocating tensor with shape[524288,185] and type float on /job:localhost/replica:0/task:0/device:GPU:0 by allocator GPU_0_bfc\n\t [[Node: discriminator/d_fc2/W/Initializer/random_normal/RandomStandardNormal = RandomStandardNormal[T=DT_INT32, _class=[\"loc:@discriminator/d_fc2/W/Assign\"], dtype=DT_FLOAT, seed=0, seed2=0, _device=\"/job:localhost/replica:0/task:0/device:GPU:0\"](discriminator/d_fc2/W/Initializer/random_normal/shape)]]\nHint: If you want to see a list of allocated tensors when OOM happens, add report_tensor_allocations_upon_oom to RunOptions for current allocation info.\n\n",
     "output_type": "error",
     "traceback": [
      "\u001b[1;31m---------------------------------------------------------------------------\u001b[0m",
      "\u001b[1;31mResourceExhaustedError\u001b[0m                    Traceback (most recent call last)",
      "\u001b[1;32mC:\\ProgramData\\Anaconda3\\envs\\gpu\\lib\\site-packages\\tensorflow\\python\\client\\session.py\u001b[0m in \u001b[0;36m_do_call\u001b[1;34m(self, fn, *args)\u001b[0m\n\u001b[0;32m   1321\u001b[0m     \u001b[1;32mtry\u001b[0m\u001b[1;33m:\u001b[0m\u001b[1;33m\u001b[0m\u001b[1;33m\u001b[0m\u001b[0m\n\u001b[1;32m-> 1322\u001b[1;33m       \u001b[1;32mreturn\u001b[0m \u001b[0mfn\u001b[0m\u001b[1;33m(\u001b[0m\u001b[1;33m*\u001b[0m\u001b[0margs\u001b[0m\u001b[1;33m)\u001b[0m\u001b[1;33m\u001b[0m\u001b[1;33m\u001b[0m\u001b[0m\n\u001b[0m\u001b[0;32m   1323\u001b[0m     \u001b[1;32mexcept\u001b[0m \u001b[0merrors\u001b[0m\u001b[1;33m.\u001b[0m\u001b[0mOpError\u001b[0m \u001b[1;32mas\u001b[0m \u001b[0me\u001b[0m\u001b[1;33m:\u001b[0m\u001b[1;33m\u001b[0m\u001b[1;33m\u001b[0m\u001b[0m\n",
      "\u001b[1;32mC:\\ProgramData\\Anaconda3\\envs\\gpu\\lib\\site-packages\\tensorflow\\python\\client\\session.py\u001b[0m in \u001b[0;36m_run_fn\u001b[1;34m(feed_dict, fetch_list, target_list, options, run_metadata)\u001b[0m\n\u001b[0;32m   1306\u001b[0m       return self._call_tf_sessionrun(\n\u001b[1;32m-> 1307\u001b[1;33m           options, feed_dict, fetch_list, target_list, run_metadata)\n\u001b[0m\u001b[0;32m   1308\u001b[0m \u001b[1;33m\u001b[0m\u001b[0m\n",
      "\u001b[1;32mC:\\ProgramData\\Anaconda3\\envs\\gpu\\lib\\site-packages\\tensorflow\\python\\client\\session.py\u001b[0m in \u001b[0;36m_call_tf_sessionrun\u001b[1;34m(self, options, feed_dict, fetch_list, target_list, run_metadata)\u001b[0m\n\u001b[0;32m   1408\u001b[0m           \u001b[0mself\u001b[0m\u001b[1;33m.\u001b[0m\u001b[0m_session\u001b[0m\u001b[1;33m,\u001b[0m \u001b[0moptions\u001b[0m\u001b[1;33m,\u001b[0m \u001b[0mfeed_dict\u001b[0m\u001b[1;33m,\u001b[0m \u001b[0mfetch_list\u001b[0m\u001b[1;33m,\u001b[0m \u001b[0mtarget_list\u001b[0m\u001b[1;33m,\u001b[0m\u001b[1;33m\u001b[0m\u001b[1;33m\u001b[0m\u001b[0m\n\u001b[1;32m-> 1409\u001b[1;33m           run_metadata)\n\u001b[0m\u001b[0;32m   1410\u001b[0m     \u001b[1;32melse\u001b[0m\u001b[1;33m:\u001b[0m\u001b[1;33m\u001b[0m\u001b[1;33m\u001b[0m\u001b[0m\n",
      "\u001b[1;31mResourceExhaustedError\u001b[0m: OOM when allocating tensor with shape[524288,185] and type float on /job:localhost/replica:0/task:0/device:GPU:0 by allocator GPU_0_bfc\n\t [[Node: discriminator/d_fc2/W/Initializer/random_normal/RandomStandardNormal = RandomStandardNormal[T=DT_INT32, _class=[\"loc:@discriminator/d_fc2/W/Assign\"], dtype=DT_FLOAT, seed=0, seed2=0, _device=\"/job:localhost/replica:0/task:0/device:GPU:0\"](discriminator/d_fc2/W/Initializer/random_normal/shape)]]\nHint: If you want to see a list of allocated tensors when OOM happens, add report_tensor_allocations_upon_oom to RunOptions for current allocation info.\n",
      "\nDuring handling of the above exception, another exception occurred:\n",
      "\u001b[1;31mResourceExhaustedError\u001b[0m                    Traceback (most recent call last)",
      "\u001b[1;32m<ipython-input-7-723acb918d6f>\u001b[0m in \u001b[0;36m<module>\u001b[1;34m\u001b[0m\n\u001b[0;32m     21\u001b[0m                 \u001b[0msample_steps\u001b[0m\u001b[1;33m=\u001b[0m\u001b[0msample_steps\u001b[0m\u001b[1;33m,\u001b[0m \u001b[0mcheckpoint_steps\u001b[0m\u001b[1;33m=\u001b[0m\u001b[0mcheckpoint_steps\u001b[0m\u001b[1;33m,\u001b[0m\u001b[1;33m\u001b[0m\u001b[1;33m\u001b[0m\u001b[0m\n\u001b[0;32m     22\u001b[0m                 \u001b[0mvalidate_steps\u001b[0m\u001b[1;33m=\u001b[0m\u001b[0mvalidate_steps\u001b[0m\u001b[1;33m,\u001b[0m\u001b[1;33m\u001b[0m\u001b[1;33m\u001b[0m\u001b[0m\n\u001b[1;32m---> 23\u001b[1;33m                 flip_labels=flip_labels, optimizer=optimizer)\n\u001b[0m",
      "\u001b[1;32mD:\\OneDrive - stu.ecnu.edu.cn\\DaSE\\CV计算机视觉\\zi2zi-CNN-CycleGAN\\model\\unet.py\u001b[0m in \u001b[0;36mtrain\u001b[1;34m(self, lr, epoch, schedule, resume, resume_pre_model, flip_labels, freeze_encoder_decoder, fine_tune, sample_steps, checkpoint_steps, validate_steps, optimizer)\u001b[0m\n\u001b[0;32m    564\u001b[0m         \u001b[0mg_optimizer\u001b[0m \u001b[1;33m=\u001b[0m \u001b[0m_g_optimizer\u001b[0m\u001b[1;33m.\u001b[0m\u001b[0mminimize\u001b[0m\u001b[1;33m(\u001b[0m\u001b[0mloss_handle\u001b[0m\u001b[1;33m.\u001b[0m\u001b[0mg_loss\u001b[0m\u001b[1;33m,\u001b[0m \u001b[0mvar_list\u001b[0m\u001b[1;33m=\u001b[0m\u001b[0mg_vars\u001b[0m\u001b[1;33m)\u001b[0m\u001b[1;33m\u001b[0m\u001b[1;33m\u001b[0m\u001b[0m\n\u001b[0;32m    565\u001b[0m \u001b[1;33m\u001b[0m\u001b[0m\n\u001b[1;32m--> 566\u001b[1;33m         \u001b[0mself\u001b[0m\u001b[1;33m.\u001b[0m\u001b[0msess\u001b[0m\u001b[1;33m.\u001b[0m\u001b[0mrun\u001b[0m\u001b[1;33m(\u001b[0m\u001b[0mtf\u001b[0m\u001b[1;33m.\u001b[0m\u001b[0mglobal_variables_initializer\u001b[0m\u001b[1;33m(\u001b[0m\u001b[1;33m)\u001b[0m\u001b[1;33m)\u001b[0m\u001b[1;33m\u001b[0m\u001b[1;33m\u001b[0m\u001b[0m\n\u001b[0m\u001b[0;32m    567\u001b[0m         \u001b[0mreal_data\u001b[0m \u001b[1;33m=\u001b[0m \u001b[0minput_handle\u001b[0m\u001b[1;33m.\u001b[0m\u001b[0mreal_data\u001b[0m\u001b[1;33m\u001b[0m\u001b[1;33m\u001b[0m\u001b[0m\n\u001b[0;32m    568\u001b[0m         \u001b[0membedding_ids\u001b[0m \u001b[1;33m=\u001b[0m \u001b[0minput_handle\u001b[0m\u001b[1;33m.\u001b[0m\u001b[0membedding_ids\u001b[0m\u001b[1;33m\u001b[0m\u001b[1;33m\u001b[0m\u001b[0m\n",
      "\u001b[1;32mC:\\ProgramData\\Anaconda3\\envs\\gpu\\lib\\site-packages\\tensorflow\\python\\client\\session.py\u001b[0m in \u001b[0;36mrun\u001b[1;34m(self, fetches, feed_dict, options, run_metadata)\u001b[0m\n\u001b[0;32m    898\u001b[0m     \u001b[1;32mtry\u001b[0m\u001b[1;33m:\u001b[0m\u001b[1;33m\u001b[0m\u001b[1;33m\u001b[0m\u001b[0m\n\u001b[0;32m    899\u001b[0m       result = self._run(None, fetches, feed_dict, options_ptr,\n\u001b[1;32m--> 900\u001b[1;33m                          run_metadata_ptr)\n\u001b[0m\u001b[0;32m    901\u001b[0m       \u001b[1;32mif\u001b[0m \u001b[0mrun_metadata\u001b[0m\u001b[1;33m:\u001b[0m\u001b[1;33m\u001b[0m\u001b[1;33m\u001b[0m\u001b[0m\n\u001b[0;32m    902\u001b[0m         \u001b[0mproto_data\u001b[0m \u001b[1;33m=\u001b[0m \u001b[0mtf_session\u001b[0m\u001b[1;33m.\u001b[0m\u001b[0mTF_GetBuffer\u001b[0m\u001b[1;33m(\u001b[0m\u001b[0mrun_metadata_ptr\u001b[0m\u001b[1;33m)\u001b[0m\u001b[1;33m\u001b[0m\u001b[1;33m\u001b[0m\u001b[0m\n",
      "\u001b[1;32mC:\\ProgramData\\Anaconda3\\envs\\gpu\\lib\\site-packages\\tensorflow\\python\\client\\session.py\u001b[0m in \u001b[0;36m_run\u001b[1;34m(self, handle, fetches, feed_dict, options, run_metadata)\u001b[0m\n\u001b[0;32m   1133\u001b[0m     \u001b[1;32mif\u001b[0m \u001b[0mfinal_fetches\u001b[0m \u001b[1;32mor\u001b[0m \u001b[0mfinal_targets\u001b[0m \u001b[1;32mor\u001b[0m \u001b[1;33m(\u001b[0m\u001b[0mhandle\u001b[0m \u001b[1;32mand\u001b[0m \u001b[0mfeed_dict_tensor\u001b[0m\u001b[1;33m)\u001b[0m\u001b[1;33m:\u001b[0m\u001b[1;33m\u001b[0m\u001b[1;33m\u001b[0m\u001b[0m\n\u001b[0;32m   1134\u001b[0m       results = self._do_run(handle, final_targets, final_fetches,\n\u001b[1;32m-> 1135\u001b[1;33m                              feed_dict_tensor, options, run_metadata)\n\u001b[0m\u001b[0;32m   1136\u001b[0m     \u001b[1;32melse\u001b[0m\u001b[1;33m:\u001b[0m\u001b[1;33m\u001b[0m\u001b[1;33m\u001b[0m\u001b[0m\n\u001b[0;32m   1137\u001b[0m       \u001b[0mresults\u001b[0m \u001b[1;33m=\u001b[0m \u001b[1;33m[\u001b[0m\u001b[1;33m]\u001b[0m\u001b[1;33m\u001b[0m\u001b[1;33m\u001b[0m\u001b[0m\n",
      "\u001b[1;32mC:\\ProgramData\\Anaconda3\\envs\\gpu\\lib\\site-packages\\tensorflow\\python\\client\\session.py\u001b[0m in \u001b[0;36m_do_run\u001b[1;34m(self, handle, target_list, fetch_list, feed_dict, options, run_metadata)\u001b[0m\n\u001b[0;32m   1314\u001b[0m     \u001b[1;32mif\u001b[0m \u001b[0mhandle\u001b[0m \u001b[1;32mis\u001b[0m \u001b[1;32mNone\u001b[0m\u001b[1;33m:\u001b[0m\u001b[1;33m\u001b[0m\u001b[1;33m\u001b[0m\u001b[0m\n\u001b[0;32m   1315\u001b[0m       return self._do_call(_run_fn, feeds, fetches, targets, options,\n\u001b[1;32m-> 1316\u001b[1;33m                            run_metadata)\n\u001b[0m\u001b[0;32m   1317\u001b[0m     \u001b[1;32melse\u001b[0m\u001b[1;33m:\u001b[0m\u001b[1;33m\u001b[0m\u001b[1;33m\u001b[0m\u001b[0m\n\u001b[0;32m   1318\u001b[0m       \u001b[1;32mreturn\u001b[0m \u001b[0mself\u001b[0m\u001b[1;33m.\u001b[0m\u001b[0m_do_call\u001b[0m\u001b[1;33m(\u001b[0m\u001b[0m_prun_fn\u001b[0m\u001b[1;33m,\u001b[0m \u001b[0mhandle\u001b[0m\u001b[1;33m,\u001b[0m \u001b[0mfeeds\u001b[0m\u001b[1;33m,\u001b[0m \u001b[0mfetches\u001b[0m\u001b[1;33m)\u001b[0m\u001b[1;33m\u001b[0m\u001b[1;33m\u001b[0m\u001b[0m\n",
      "\u001b[1;32mC:\\ProgramData\\Anaconda3\\envs\\gpu\\lib\\site-packages\\tensorflow\\python\\client\\session.py\u001b[0m in \u001b[0;36m_do_call\u001b[1;34m(self, fn, *args)\u001b[0m\n\u001b[0;32m   1333\u001b[0m         \u001b[1;32mexcept\u001b[0m \u001b[0mKeyError\u001b[0m\u001b[1;33m:\u001b[0m\u001b[1;33m\u001b[0m\u001b[1;33m\u001b[0m\u001b[0m\n\u001b[0;32m   1334\u001b[0m           \u001b[1;32mpass\u001b[0m\u001b[1;33m\u001b[0m\u001b[1;33m\u001b[0m\u001b[0m\n\u001b[1;32m-> 1335\u001b[1;33m       \u001b[1;32mraise\u001b[0m \u001b[0mtype\u001b[0m\u001b[1;33m(\u001b[0m\u001b[0me\u001b[0m\u001b[1;33m)\u001b[0m\u001b[1;33m(\u001b[0m\u001b[0mnode_def\u001b[0m\u001b[1;33m,\u001b[0m \u001b[0mop\u001b[0m\u001b[1;33m,\u001b[0m \u001b[0mmessage\u001b[0m\u001b[1;33m)\u001b[0m\u001b[1;33m\u001b[0m\u001b[1;33m\u001b[0m\u001b[0m\n\u001b[0m\u001b[0;32m   1336\u001b[0m \u001b[1;33m\u001b[0m\u001b[0m\n\u001b[0;32m   1337\u001b[0m   \u001b[1;32mdef\u001b[0m \u001b[0m_extend_graph\u001b[0m\u001b[1;33m(\u001b[0m\u001b[0mself\u001b[0m\u001b[1;33m)\u001b[0m\u001b[1;33m:\u001b[0m\u001b[1;33m\u001b[0m\u001b[1;33m\u001b[0m\u001b[0m\n",
      "\u001b[1;31mResourceExhaustedError\u001b[0m: OOM when allocating tensor with shape[524288,185] and type float on /job:localhost/replica:0/task:0/device:GPU:0 by allocator GPU_0_bfc\n\t [[Node: discriminator/d_fc2/W/Initializer/random_normal/RandomStandardNormal = RandomStandardNormal[T=DT_INT32, _class=[\"loc:@discriminator/d_fc2/W/Assign\"], dtype=DT_FLOAT, seed=0, seed2=0, _device=\"/job:localhost/replica:0/task:0/device:GPU:0\"](discriminator/d_fc2/W/Initializer/random_normal/shape)]]\nHint: If you want to see a list of allocated tensors when OOM happens, add report_tensor_allocations_upon_oom to RunOptions for current allocation info.\n\n\nCaused by op 'discriminator/d_fc2/W/Initializer/random_normal/RandomStandardNormal', defined at:\n  File \"C:\\ProgramData\\Anaconda3\\envs\\gpu\\lib\\runpy.py\", line 193, in _run_module_as_main\n    \"__main__\", mod_spec)\n  File \"C:\\ProgramData\\Anaconda3\\envs\\gpu\\lib\\runpy.py\", line 85, in _run_code\n    exec(code, run_globals)\n  File \"C:\\ProgramData\\Anaconda3\\envs\\gpu\\lib\\site-packages\\ipykernel_launcher.py\", line 16, in <module>\n    app.launch_new_instance()\n  File \"C:\\ProgramData\\Anaconda3\\envs\\gpu\\lib\\site-packages\\traitlets\\config\\application.py\", line 664, in launch_instance\n    app.start()\n  File \"C:\\ProgramData\\Anaconda3\\envs\\gpu\\lib\\site-packages\\ipykernel\\kernelapp.py\", line 597, in start\n    self.io_loop.start()\n  File \"C:\\ProgramData\\Anaconda3\\envs\\gpu\\lib\\site-packages\\tornado\\platform\\asyncio.py\", line 149, in start\n    self.asyncio_loop.run_forever()\n  File \"C:\\ProgramData\\Anaconda3\\envs\\gpu\\lib\\asyncio\\base_events.py\", line 442, in run_forever\n    self._run_once()\n  File \"C:\\ProgramData\\Anaconda3\\envs\\gpu\\lib\\asyncio\\base_events.py\", line 1462, in _run_once\n    handle._run()\n  File \"C:\\ProgramData\\Anaconda3\\envs\\gpu\\lib\\asyncio\\events.py\", line 145, in _run\n    self._callback(*self._args)\n  File \"C:\\ProgramData\\Anaconda3\\envs\\gpu\\lib\\site-packages\\tornado\\ioloop.py\", line 690, in <lambda>\n    lambda f: self._run_callback(functools.partial(callback, future))\n  File \"C:\\ProgramData\\Anaconda3\\envs\\gpu\\lib\\site-packages\\tornado\\ioloop.py\", line 743, in _run_callback\n    ret = callback()\n  File \"C:\\ProgramData\\Anaconda3\\envs\\gpu\\lib\\site-packages\\tornado\\gen.py\", line 787, in inner\n    self.run()\n  File \"C:\\ProgramData\\Anaconda3\\envs\\gpu\\lib\\site-packages\\tornado\\gen.py\", line 748, in run\n    yielded = self.gen.send(value)\n  File \"C:\\ProgramData\\Anaconda3\\envs\\gpu\\lib\\site-packages\\ipykernel\\kernelbase.py\", line 381, in dispatch_queue\n    yield self.process_one()\n  File \"C:\\ProgramData\\Anaconda3\\envs\\gpu\\lib\\site-packages\\tornado\\gen.py\", line 225, in wrapper\n    runner = Runner(result, future, yielded)\n  File \"C:\\ProgramData\\Anaconda3\\envs\\gpu\\lib\\site-packages\\tornado\\gen.py\", line 714, in __init__\n    self.run()\n  File \"C:\\ProgramData\\Anaconda3\\envs\\gpu\\lib\\site-packages\\tornado\\gen.py\", line 748, in run\n    yielded = self.gen.send(value)\n  File \"C:\\ProgramData\\Anaconda3\\envs\\gpu\\lib\\site-packages\\ipykernel\\kernelbase.py\", line 365, in process_one\n    yield gen.maybe_future(dispatch(*args))\n  File \"C:\\ProgramData\\Anaconda3\\envs\\gpu\\lib\\site-packages\\tornado\\gen.py\", line 209, in wrapper\n    yielded = next(result)\n  File \"C:\\ProgramData\\Anaconda3\\envs\\gpu\\lib\\site-packages\\ipykernel\\kernelbase.py\", line 268, in dispatch_shell\n    yield gen.maybe_future(handler(stream, idents, msg))\n  File \"C:\\ProgramData\\Anaconda3\\envs\\gpu\\lib\\site-packages\\tornado\\gen.py\", line 209, in wrapper\n    yielded = next(result)\n  File \"C:\\ProgramData\\Anaconda3\\envs\\gpu\\lib\\site-packages\\ipykernel\\kernelbase.py\", line 545, in execute_request\n    user_expressions, allow_stdin,\n  File \"C:\\ProgramData\\Anaconda3\\envs\\gpu\\lib\\site-packages\\tornado\\gen.py\", line 209, in wrapper\n    yielded = next(result)\n  File \"C:\\ProgramData\\Anaconda3\\envs\\gpu\\lib\\site-packages\\ipykernel\\ipkernel.py\", line 300, in do_execute\n    res = shell.run_cell(code, store_history=store_history, silent=silent)\n  File \"C:\\ProgramData\\Anaconda3\\envs\\gpu\\lib\\site-packages\\ipykernel\\zmqshell.py\", line 536, in run_cell\n    return super(ZMQInteractiveShell, self).run_cell(*args, **kwargs)\n  File \"C:\\ProgramData\\Anaconda3\\envs\\gpu\\lib\\site-packages\\IPython\\core\\interactiveshell.py\", line 2858, in run_cell\n    raw_cell, store_history, silent, shell_futures)\n  File \"C:\\ProgramData\\Anaconda3\\envs\\gpu\\lib\\site-packages\\IPython\\core\\interactiveshell.py\", line 2886, in _run_cell\n    return runner(coro)\n  File \"C:\\ProgramData\\Anaconda3\\envs\\gpu\\lib\\site-packages\\IPython\\core\\async_helpers.py\", line 68, in _pseudo_sync_runner\n    coro.send(None)\n  File \"C:\\ProgramData\\Anaconda3\\envs\\gpu\\lib\\site-packages\\IPython\\core\\interactiveshell.py\", line 3063, in run_cell_async\n    interactivity=interactivity, compiler=compiler, result=result)\n  File \"C:\\ProgramData\\Anaconda3\\envs\\gpu\\lib\\site-packages\\IPython\\core\\interactiveshell.py\", line 3254, in run_ast_nodes\n    if (await self.run_code(code, result,  async_=asy)):\n  File \"C:\\ProgramData\\Anaconda3\\envs\\gpu\\lib\\site-packages\\IPython\\core\\interactiveshell.py\", line 3331, in run_code\n    exec(code_obj, self.user_global_ns, self.user_ns)\n  File \"<ipython-input-7-723acb918d6f>\", line 9, in <module>\n    model.build_model(is_training=True, inst_norm=inst_norm, no_target_source=True)\n  File \"D:\\OneDrive - stu.ecnu.edu.cn\\DaSE\\CV计算机视觉\\zi2zi-CNN-CycleGAN\\model\\unet.py\", line 191, in build_model\n    real_D, real_D_logits, real_category_logits = self.discriminator(real_AB, is_training=is_training, reuse=False)\n  File \"D:\\OneDrive - stu.ecnu.edu.cn\\DaSE\\CV计算机视觉\\zi2zi-CNN-CycleGAN\\model\\unet.py\", line 161, in discriminator\n    fc2 = fc(tf.reshape(h3, [-1, np.prod(h3_shapes[1:])]), self.embedding_num, scope=\"d_fc2\")\n  File \"D:\\OneDrive - stu.ecnu.edu.cn\\DaSE\\CV计算机视觉\\zi2zi-CNN-CycleGAN\\model\\ops.py\", line 51, in fc\n    tf.random_normal_initializer(stddev=stddev))\n  File \"C:\\ProgramData\\Anaconda3\\envs\\gpu\\lib\\site-packages\\tensorflow\\python\\ops\\variable_scope.py\", line 1317, in get_variable\n    constraint=constraint)\n  File \"C:\\ProgramData\\Anaconda3\\envs\\gpu\\lib\\site-packages\\tensorflow\\python\\ops\\variable_scope.py\", line 1079, in get_variable\n    constraint=constraint)\n  File \"C:\\ProgramData\\Anaconda3\\envs\\gpu\\lib\\site-packages\\tensorflow\\python\\ops\\variable_scope.py\", line 425, in get_variable\n    constraint=constraint)\n  File \"C:\\ProgramData\\Anaconda3\\envs\\gpu\\lib\\site-packages\\tensorflow\\python\\ops\\variable_scope.py\", line 394, in _true_getter\n    use_resource=use_resource, constraint=constraint)\n  File \"C:\\ProgramData\\Anaconda3\\envs\\gpu\\lib\\site-packages\\tensorflow\\python\\ops\\variable_scope.py\", line 786, in _get_single_variable\n    use_resource=use_resource)\n  File \"C:\\ProgramData\\Anaconda3\\envs\\gpu\\lib\\site-packages\\tensorflow\\python\\ops\\variable_scope.py\", line 2220, in variable\n    use_resource=use_resource)\n  File \"C:\\ProgramData\\Anaconda3\\envs\\gpu\\lib\\site-packages\\tensorflow\\python\\ops\\variable_scope.py\", line 2210, in <lambda>\n    previous_getter = lambda **kwargs: default_variable_creator(None, **kwargs)\n  File \"C:\\ProgramData\\Anaconda3\\envs\\gpu\\lib\\site-packages\\tensorflow\\python\\ops\\variable_scope.py\", line 2193, in default_variable_creator\n    constraint=constraint)\n  File \"C:\\ProgramData\\Anaconda3\\envs\\gpu\\lib\\site-packages\\tensorflow\\python\\ops\\variables.py\", line 235, in __init__\n    constraint=constraint)\n  File \"C:\\ProgramData\\Anaconda3\\envs\\gpu\\lib\\site-packages\\tensorflow\\python\\ops\\variables.py\", line 343, in _init_from_args\n    initial_value(), name=\"initial_value\", dtype=dtype)\n  File \"C:\\ProgramData\\Anaconda3\\envs\\gpu\\lib\\site-packages\\tensorflow\\python\\ops\\variable_scope.py\", line 770, in <lambda>\n    shape.as_list(), dtype=dtype, partition_info=partition_info)\n  File \"C:\\ProgramData\\Anaconda3\\envs\\gpu\\lib\\site-packages\\tensorflow\\python\\ops\\init_ops.py\", line 290, in __call__\n    shape, self.mean, self.stddev, dtype, seed=self.seed)\n  File \"C:\\ProgramData\\Anaconda3\\envs\\gpu\\lib\\site-packages\\tensorflow\\python\\ops\\random_ops.py\", line 77, in random_normal\n    shape_tensor, dtype, seed=seed1, seed2=seed2)\n  File \"C:\\ProgramData\\Anaconda3\\envs\\gpu\\lib\\site-packages\\tensorflow\\python\\ops\\gen_random_ops.py\", line 589, in random_standard_normal\n    seed2=seed2, name=name)\n  File \"C:\\ProgramData\\Anaconda3\\envs\\gpu\\lib\\site-packages\\tensorflow\\python\\framework\\op_def_library.py\", line 787, in _apply_op_helper\n    op_def=op_def)\n  File \"C:\\ProgramData\\Anaconda3\\envs\\gpu\\lib\\site-packages\\tensorflow\\python\\framework\\ops.py\", line 3392, in create_op\n    op_def=op_def)\n  File \"C:\\ProgramData\\Anaconda3\\envs\\gpu\\lib\\site-packages\\tensorflow\\python\\framework\\ops.py\", line 1718, in __init__\n    self._traceback = self._graph._extract_stack()  # pylint: disable=protected-access\n\nResourceExhaustedError (see above for traceback): OOM when allocating tensor with shape[524288,185] and type float on /job:localhost/replica:0/task:0/device:GPU:0 by allocator GPU_0_bfc\n\t [[Node: discriminator/d_fc2/W/Initializer/random_normal/RandomStandardNormal = RandomStandardNormal[T=DT_INT32, _class=[\"loc:@discriminator/d_fc2/W/Assign\"], dtype=DT_FLOAT, seed=0, seed2=0, _device=\"/job:localhost/replica:0/task:0/device:GPU:0\"](discriminator/d_fc2/W/Initializer/random_normal/shape)]]\nHint: If you want to see a list of allocated tensors when OOM happens, add report_tensor_allocations_upon_oom to RunOptions for current allocation info.\n\n"
     ]
    }
   ],
   "source": [
    "\n",
    "\n",
    "with tf.Session(config=config) as sess:\n",
    "    model = UNet(experiment_dir=experiment_dir, batch_size=batch_size, experiment_id=experiment_id,\n",
    "                 input_width=image_size, output_width=image_size, embedding_num=embedding_num,\n",
    "                 validate_batches=validate_batches, embedding_dim=embedding_dim,\n",
    "                 L1_penalty=L1_penalty, Lconst_penalty=Lconst_penalty,\n",
    "                 Ltv_penalty=Ltv_penalty, Lcategory_penalty=Lcategory_penalty)\n",
    "    model.register_session(sess)\n",
    "    if flip_labels:\n",
    "        model.build_model(is_training=True, inst_norm=inst_norm, no_target_source=True)\n",
    "    else:\n",
    "        model.build_model(is_training=True, inst_norm=inst_norm)\n",
    "    fine_tune_list = None\n",
    "    if fine_tune:\n",
    "        ids = fine_tune.split(\",\")\n",
    "        fine_tune_list = set([int(i) for i in ids])\n",
    "#         print(\"@@@@@\"+str(fine_tune_list))\n",
    "\n",
    "    model.train(lr=lr, epoch=epoch, resume=resume, resume_pre_model=resume_pre_model,\n",
    "                schedule=schedule, freeze_encoder_decoder=freeze_encoder_decoder,\n",
    "                fine_tune=fine_tune_list,\n",
    "                sample_steps=sample_steps, checkpoint_steps=checkpoint_steps,\n",
    "                validate_steps=validate_steps,\n",
    "                flip_labels=flip_labels, optimizer=optimizer)\n"
   ]
  },
  {
   "cell_type": "code",
   "execution_count": null,
   "metadata": {
    "ExecuteTime": {
     "end_time": "2020-06-09T15:13:22.238795Z",
     "start_time": "2020-06-09T15:07:03.648Z"
    }
   },
   "outputs": [],
   "source": [
    "\n",
    "!conda activate gpu\n",
    "!conda env list\n"
   ]
  },
  {
   "cell_type": "code",
   "execution_count": null,
   "metadata": {},
   "outputs": [],
   "source": []
  }
 ],
 "metadata": {
  "kernelspec": {
   "display_name": "gpu",
   "language": "python",
   "name": "gpu"
  },
  "language_info": {
   "codemirror_mode": {
    "name": "ipython",
    "version": 3
   },
   "file_extension": ".py",
   "mimetype": "text/x-python",
   "name": "python",
   "nbconvert_exporter": "python",
   "pygments_lexer": "ipython3",
   "version": "3.6.10"
  },
  "latex_envs": {
   "LaTeX_envs_menu_present": true,
   "autoclose": false,
   "autocomplete": true,
   "bibliofile": "biblio.bib",
   "cite_by": "apalike",
   "current_citInitial": 1,
   "eqLabelWithNumbers": true,
   "eqNumInitial": 1,
   "hotkeys": {
    "equation": "Ctrl-E",
    "itemize": "Ctrl-I"
   },
   "labels_anchors": false,
   "latex_user_defs": false,
   "report_style_numbering": false,
   "user_envs_cfg": false
  },
  "toc": {
   "base_numbering": 1,
   "nav_menu": {},
   "number_sections": true,
   "sideBar": true,
   "skip_h1_title": false,
   "title_cell": "Table of Contents",
   "title_sidebar": "Contents",
   "toc_cell": false,
   "toc_position": {},
   "toc_section_display": true,
   "toc_window_display": false
  },
  "varInspector": {
   "cols": {
    "lenName": 16,
    "lenType": 16,
    "lenVar": 40
   },
   "kernels_config": {
    "python": {
     "delete_cmd_postfix": "",
     "delete_cmd_prefix": "del ",
     "library": "var_list.py",
     "varRefreshCmd": "print(var_dic_list())"
    },
    "r": {
     "delete_cmd_postfix": ") ",
     "delete_cmd_prefix": "rm(",
     "library": "var_list.r",
     "varRefreshCmd": "cat(var_dic_list()) "
    }
   },
   "position": {
    "height": "311px",
    "left": "710px",
    "right": "20px",
    "top": "120px",
    "width": "350px"
   },
   "types_to_exclude": [
    "module",
    "function",
    "builtin_function_or_method",
    "instance",
    "_Feature"
   ],
   "window_display": true
  }
 },
 "nbformat": 4,
 "nbformat_minor": 4
}
